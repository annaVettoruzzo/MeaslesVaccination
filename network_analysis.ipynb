{
 "cells": [
  {
   "cell_type": "code",
   "execution_count": null,
   "metadata": {
    "colab": {
     "base_uri": "https://localhost:8080/"
    },
    "executionInfo": {
     "elapsed": 12448,
     "status": "ok",
     "timestamp": 1610711979995,
     "user": {
      "displayName": "Cinzia Ugwu",
      "photoUrl": "https://lh3.googleusercontent.com/a-/AOh14GgQ6XVfh8lgNDfSacthaskWgKXZzNDGdDEfAEkE7A=s64",
      "userId": "08157638656467437282"
     },
     "user_tz": -60
    },
    "id": "pHynpv8GlN-Q",
    "outputId": "e5f882af-23b1-401c-c501-37ea63bbd35a"
   },
   "outputs": [
    {
     "name": "stdout",
     "output_type": "stream",
     "text": [
      "Requirement already satisfied: python-igraph in /usr/local/lib/python3.6/dist-packages (0.8.3)\n",
      "Requirement already satisfied: texttable>=1.6.2 in /usr/local/lib/python3.6/dist-packages (from python-igraph) (1.6.3)\n",
      "Requirement already satisfied: cairocffi in /usr/local/lib/python3.6/dist-packages (1.2.0)\n",
      "Requirement already satisfied: cffi>=1.1.0 in /usr/local/lib/python3.6/dist-packages (from cairocffi) (1.14.4)\n",
      "Requirement already satisfied: pycparser in /usr/local/lib/python3.6/dist-packages (from cffi>=1.1.0->cairocffi) (2.20)\n",
      "Requirement already satisfied: matplotlib in /usr/local/lib/python3.6/dist-packages (3.2.2)\n",
      "Requirement already satisfied: cycler>=0.10 in /usr/local/lib/python3.6/dist-packages (from matplotlib) (0.10.0)\n",
      "Requirement already satisfied: python-dateutil>=2.1 in /usr/local/lib/python3.6/dist-packages (from matplotlib) (2.8.1)\n",
      "Requirement already satisfied: numpy>=1.11 in /usr/local/lib/python3.6/dist-packages (from matplotlib) (1.19.5)\n",
      "Requirement already satisfied: kiwisolver>=1.0.1 in /usr/local/lib/python3.6/dist-packages (from matplotlib) (1.3.1)\n",
      "Requirement already satisfied: pyparsing!=2.0.4,!=2.1.2,!=2.1.6,>=2.0.1 in /usr/local/lib/python3.6/dist-packages (from matplotlib) (2.4.7)\n",
      "Requirement already satisfied: six in /usr/local/lib/python3.6/dist-packages (from cycler>=0.10->matplotlib) (1.15.0)\n",
      "Collecting powerlaw\n",
      "  Downloading https://files.pythonhosted.org/packages/d5/4e/3ceab890fafff8e78a5fd7f5340c232c38b21d181fcd32d7a31079db3646/powerlaw-1.4.6.tar.gz\n",
      "Requirement already satisfied: scipy in /usr/local/lib/python3.6/dist-packages (from powerlaw) (1.4.1)\n",
      "Requirement already satisfied: numpy in /usr/local/lib/python3.6/dist-packages (from powerlaw) (1.19.5)\n",
      "Requirement already satisfied: matplotlib in /usr/local/lib/python3.6/dist-packages (from powerlaw) (3.2.2)\n",
      "Requirement already satisfied: mpmath in /usr/local/lib/python3.6/dist-packages (from powerlaw) (1.1.0)\n",
      "Requirement already satisfied: cycler>=0.10 in /usr/local/lib/python3.6/dist-packages (from matplotlib->powerlaw) (0.10.0)\n",
      "Requirement already satisfied: pyparsing!=2.0.4,!=2.1.2,!=2.1.6,>=2.0.1 in /usr/local/lib/python3.6/dist-packages (from matplotlib->powerlaw) (2.4.7)\n",
      "Requirement already satisfied: python-dateutil>=2.1 in /usr/local/lib/python3.6/dist-packages (from matplotlib->powerlaw) (2.8.1)\n",
      "Requirement already satisfied: kiwisolver>=1.0.1 in /usr/local/lib/python3.6/dist-packages (from matplotlib->powerlaw) (1.3.1)\n",
      "Requirement already satisfied: six in /usr/local/lib/python3.6/dist-packages (from cycler>=0.10->matplotlib->powerlaw) (1.15.0)\n",
      "Building wheels for collected packages: powerlaw\n",
      "  Building wheel for powerlaw (setup.py) ... \u001b[?25l\u001b[?25hdone\n",
      "  Created wheel for powerlaw: filename=powerlaw-1.4.6-cp36-none-any.whl size=24788 sha256=19fd0763076c855b19644512d43b083aa96f3d9612ec67c366e8a2966aa58a70\n",
      "  Stored in directory: /root/.cache/pip/wheels/e0/27/02/08d0e2865072bfd8d7c655e290521e3feca3fc22f1ac460601\n",
      "Successfully built powerlaw\n",
      "Installing collected packages: powerlaw\n",
      "Successfully installed powerlaw-1.4.6\n"
     ]
    }
   ],
   "source": [
    "# only in colab\n",
    "!pip install python-igraph\n",
    "!pip install cairocffi\n",
    "!pip install matplotlib\n",
    "!pip install powerlaw"
   ]
  },
  {
   "cell_type": "code",
   "execution_count": null,
   "metadata": {
    "id": "OqoCtunOlN-S"
   },
   "outputs": [],
   "source": [
    "import json\n",
    "import csv\n",
    "import glob\n",
    "import pandas as pd\n",
    "import os\n",
    "import numpy as np\n",
    "import networkx as nx\n",
    "from scipy import io\n",
    "\n",
    "import igraph as ig\n",
    "import cairocffi as cairo\n",
    "import random\n",
    "import math\n",
    "import tensorflow\n",
    "import ast\n",
    "import itertools\n",
    "import matplotlib.pyplot as plt\n",
    "from matplotlib import patches, pyplot\n",
    "%matplotlib inline"
   ]
  },
  {
   "cell_type": "code",
   "execution_count": null,
   "metadata": {
    "id": "dqmekS9xljdQ"
   },
   "outputs": [],
   "source": [
    "#!unzip italianTweets_sentiment.zip # RUNNARE SOLO UNA VOLTA SU COLAB"
   ]
  },
  {
   "cell_type": "markdown",
   "metadata": {
    "id": "do7pOwb6SGtV"
   },
   "source": [
    "****"
   ]
  },
  {
   "cell_type": "markdown",
   "metadata": {
    "id": "sqHUz3lwR-jO"
   },
   "source": [
    "#### Use the dataset after sentiment analysis"
   ]
  },
  {
   "cell_type": "code",
   "execution_count": null,
   "metadata": {
    "id": "DAJP67XGR2XU"
   },
   "outputs": [],
   "source": [
    "df_geolist = pd.read_csv('italianTweets_sentiment.csv')"
   ]
  },
  {
   "cell_type": "code",
   "execution_count": null,
   "metadata": {
    "id": "PGNBbuT4xWYX"
   },
   "outputs": [],
   "source": [
    "#this next step is necessary in order to have hashtag column contain a list of hashtags, not a string\r\n",
    "df_geolist['hashtags'] = df_geolist['hashtags'].apply(lambda x: ast.literal_eval(x.lower()))"
   ]
  },
  {
   "cell_type": "code",
   "execution_count": null,
   "metadata": {
    "id": "057E4EDzSazO"
   },
   "outputs": [],
   "source": [
    "# Creo una mappa che assegna i vari valori 0 1 e -1 in base alla opinione mi serve per calcolare la polarity\r\n",
    "mymap = {'pro':1, 'neutral':0, 'con':-1}\r\n",
    "df_geolist['opinion'] = df_geolist['opinion'].map(lambda s: mymap.get(s) if s in mymap else s) \r\n",
    "# in base a quale delle due versioni di Anna scegliamo cambieremo il nome della colonna"
   ]
  },
  {
   "cell_type": "code",
   "execution_count": null,
   "metadata": {
    "colab": {
     "base_uri": "https://localhost:8080/",
     "height": 895
    },
    "executionInfo": {
     "elapsed": 1004,
     "status": "ok",
     "timestamp": 1610711890323,
     "user": {
      "displayName": "Cinzia Ugwu",
      "photoUrl": "https://lh3.googleusercontent.com/a-/AOh14GgQ6XVfh8lgNDfSacthaskWgKXZzNDGdDEfAEkE7A=s64",
      "userId": "08157638656467437282"
     },
     "user_tz": -60
    },
    "id": "2VxY_dXaTWEe",
    "outputId": "15b9c679-fcbd-4835-e838-c7779cb4bd29"
   },
   "outputs": [
    {
     "data": {
      "text/html": [
       "<div>\n",
       "<style scoped>\n",
       "    .dataframe tbody tr th:only-of-type {\n",
       "        vertical-align: middle;\n",
       "    }\n",
       "\n",
       "    .dataframe tbody tr th {\n",
       "        vertical-align: top;\n",
       "    }\n",
       "\n",
       "    .dataframe thead th {\n",
       "        text-align: right;\n",
       "    }\n",
       "</style>\n",
       "<table border=\"1\" class=\"dataframe\">\n",
       "  <thead>\n",
       "    <tr style=\"text-align: right;\">\n",
       "      <th></th>\n",
       "      <th>Unnamed: 0</th>\n",
       "      <th>tweet_id</th>\n",
       "      <th>created_at</th>\n",
       "      <th>username</th>\n",
       "      <th>location</th>\n",
       "      <th>usermentions</th>\n",
       "      <th>retweet_count</th>\n",
       "      <th>full_text</th>\n",
       "      <th>hashtags</th>\n",
       "      <th>opinion</th>\n",
       "      <th>pos</th>\n",
       "      <th>neg</th>\n",
       "    </tr>\n",
       "  </thead>\n",
       "  <tbody>\n",
       "    <tr>\n",
       "      <th>0</th>\n",
       "      <td>0</td>\n",
       "      <td>860610466590142464</td>\n",
       "      <td>Fri May 05 21:41:39 +0000 2017</td>\n",
       "      <td>140327940</td>\n",
       "      <td>emiliaromagna</td>\n",
       "      <td>['DarioBallini']</td>\n",
       "      <td>0</td>\n",
       "      <td>chiss se autismo calato in modo proporzionale...</td>\n",
       "      <td>[autismo, morbillo, vaccini]</td>\n",
       "      <td>0</td>\n",
       "      <td>0.012192</td>\n",
       "      <td>0.070409</td>\n",
       "    </tr>\n",
       "    <tr>\n",
       "      <th>1</th>\n",
       "      <td>1</td>\n",
       "      <td>867724689698902016</td>\n",
       "      <td>Thu May 25 12:51:02 +0000 2017</td>\n",
       "      <td>556350111</td>\n",
       "      <td>sicilia</td>\n",
       "      <td>['l_gad48']</td>\n",
       "      <td>0</td>\n",
       "      <td>vaccini morbillo autismo graphicnovel forse co...</td>\n",
       "      <td>[vaccini, morbillo, autismo, graphicnovel]</td>\n",
       "      <td>-1</td>\n",
       "      <td>0.070326</td>\n",
       "      <td>0.484635</td>\n",
       "    </tr>\n",
       "    <tr>\n",
       "      <th>2</th>\n",
       "      <td>2</td>\n",
       "      <td>867363895920533504</td>\n",
       "      <td>Wed May 24 12:57:22 +0000 2017</td>\n",
       "      <td>1364930161</td>\n",
       "      <td>sicilia</td>\n",
       "      <td>[]</td>\n",
       "      <td>1</td>\n",
       "      <td>vaccini morbillo autismo graphicnovel forse co...</td>\n",
       "      <td>[vaccini, morbillo, autismo, graphicnovel]</td>\n",
       "      <td>-1</td>\n",
       "      <td>0.070326</td>\n",
       "      <td>0.484635</td>\n",
       "    </tr>\n",
       "    <tr>\n",
       "      <th>3</th>\n",
       "      <td>3</td>\n",
       "      <td>864769213046632448</td>\n",
       "      <td>Wed May 17 09:07:01 +0000 2017</td>\n",
       "      <td>824608965464129537</td>\n",
       "      <td>toscana</td>\n",
       "      <td>['MadheaG']</td>\n",
       "      <td>0</td>\n",
       "      <td>la scienza parla. meglio morbillo oggi che aut...</td>\n",
       "      <td>[scienza, morbillo, autismo, noobbligovaccinal...</td>\n",
       "      <td>0</td>\n",
       "      <td>0.128730</td>\n",
       "      <td>0.140054</td>\n",
       "    </tr>\n",
       "    <tr>\n",
       "      <th>4</th>\n",
       "      <td>4</td>\n",
       "      <td>864576616797753345</td>\n",
       "      <td>Tue May 16 20:21:43 +0000 2017</td>\n",
       "      <td>2885743858</td>\n",
       "      <td>toscana</td>\n",
       "      <td>['MadheaG']</td>\n",
       "      <td>0</td>\n",
       "      <td>la scienza parla. meglio morbillo oggi che aut...</td>\n",
       "      <td>[scienza, morbillo, autismo, noobbligovaccinal...</td>\n",
       "      <td>0</td>\n",
       "      <td>0.128730</td>\n",
       "      <td>0.140054</td>\n",
       "    </tr>\n",
       "    <tr>\n",
       "      <th>...</th>\n",
       "      <td>...</td>\n",
       "      <td>...</td>\n",
       "      <td>...</td>\n",
       "      <td>...</td>\n",
       "      <td>...</td>\n",
       "      <td>...</td>\n",
       "      <td>...</td>\n",
       "      <td>...</td>\n",
       "      <td>...</td>\n",
       "      <td>...</td>\n",
       "      <td>...</td>\n",
       "      <td>...</td>\n",
       "    </tr>\n",
       "    <tr>\n",
       "      <th>3415</th>\n",
       "      <td>3415</td>\n",
       "      <td>867013188579098624</td>\n",
       "      <td>Tue May 23 13:43:47 +0000 2017</td>\n",
       "      <td>289839081</td>\n",
       "      <td>lazio</td>\n",
       "      <td>['Marghe_rita63', 'BeaLorenzin']</td>\n",
       "      <td>0</td>\n",
       "      <td>vaccinazione obbligatoria pi che giusta. non ...</td>\n",
       "      <td>[]</td>\n",
       "      <td>-1</td>\n",
       "      <td>0.202148</td>\n",
       "      <td>0.496096</td>\n",
       "    </tr>\n",
       "    <tr>\n",
       "      <th>3416</th>\n",
       "      <td>3416</td>\n",
       "      <td>878172192596303872</td>\n",
       "      <td>Fri Jun 23 08:45:41 +0000 2017</td>\n",
       "      <td>2858863684</td>\n",
       "      <td>toscana</td>\n",
       "      <td>['citiamo']</td>\n",
       "      <td>0</td>\n",
       "      <td>vaccinazione obbligatoria, cosa ne pensi? morb...</td>\n",
       "      <td>[morbillo, sondaggi, citiamosondaggi, 23giugno]</td>\n",
       "      <td>-1</td>\n",
       "      <td>0.098466</td>\n",
       "      <td>0.428779</td>\n",
       "    </tr>\n",
       "    <tr>\n",
       "      <th>3417</th>\n",
       "      <td>3417</td>\n",
       "      <td>888063868563587073</td>\n",
       "      <td>Thu Jul 20 15:51:40 +0000 2017</td>\n",
       "      <td>886632503041290240</td>\n",
       "      <td>piemonte</td>\n",
       "      <td>['DanielaMondorff']</td>\n",
       "      <td>0</td>\n",
       "      <td>freevax noobbligovaccinale senatore maurizio r...</td>\n",
       "      <td>[freevax, noobbligovaccinale]</td>\n",
       "      <td>0</td>\n",
       "      <td>0.015137</td>\n",
       "      <td>0.056942</td>\n",
       "    </tr>\n",
       "    <tr>\n",
       "      <th>3418</th>\n",
       "      <td>3418</td>\n",
       "      <td>887962592756588544</td>\n",
       "      <td>Thu Jul 20 09:09:14 +0000 2017</td>\n",
       "      <td>367636617</td>\n",
       "      <td>lazio</td>\n",
       "      <td>['DanielaMondorff']</td>\n",
       "      <td>0</td>\n",
       "      <td>freevax noobbligovaccinale senatore maurizio r...</td>\n",
       "      <td>[freevax, noobbligovaccinale]</td>\n",
       "      <td>0</td>\n",
       "      <td>0.015137</td>\n",
       "      <td>0.056942</td>\n",
       "    </tr>\n",
       "    <tr>\n",
       "      <th>3419</th>\n",
       "      <td>3419</td>\n",
       "      <td>887937504028000257</td>\n",
       "      <td>Thu Jul 20 07:29:32 +0000 2017</td>\n",
       "      <td>880585389177786369</td>\n",
       "      <td>lombardia</td>\n",
       "      <td>['DanielaMondorff']</td>\n",
       "      <td>0</td>\n",
       "      <td>freevax noobbligovaccinale senatore maurizio r...</td>\n",
       "      <td>[freevax, noobbligovaccinale]</td>\n",
       "      <td>0</td>\n",
       "      <td>0.015137</td>\n",
       "      <td>0.056942</td>\n",
       "    </tr>\n",
       "  </tbody>\n",
       "</table>\n",
       "<p>3420 rows × 12 columns</p>\n",
       "</div>"
      ],
      "text/plain": [
       "      Unnamed: 0            tweet_id  ...       pos       neg\n",
       "0              0  860610466590142464  ...  0.012192  0.070409\n",
       "1              1  867724689698902016  ...  0.070326  0.484635\n",
       "2              2  867363895920533504  ...  0.070326  0.484635\n",
       "3              3  864769213046632448  ...  0.128730  0.140054\n",
       "4              4  864576616797753345  ...  0.128730  0.140054\n",
       "...          ...                 ...  ...       ...       ...\n",
       "3415        3415  867013188579098624  ...  0.202148  0.496096\n",
       "3416        3416  878172192596303872  ...  0.098466  0.428779\n",
       "3417        3417  888063868563587073  ...  0.015137  0.056942\n",
       "3418        3418  887962592756588544  ...  0.015137  0.056942\n",
       "3419        3419  887937504028000257  ...  0.015137  0.056942\n",
       "\n",
       "[3420 rows x 12 columns]"
      ]
     },
     "execution_count": 7,
     "metadata": {
      "tags": []
     },
     "output_type": "execute_result"
    }
   ],
   "source": [
    "df_geolist"
   ]
  },
  {
   "cell_type": "code",
   "execution_count": null,
   "metadata": {
    "colab": {
     "base_uri": "https://localhost:8080/",
     "height": 895
    },
    "executionInfo": {
     "elapsed": 525,
     "status": "ok",
     "timestamp": 1610711890656,
     "user": {
      "displayName": "Cinzia Ugwu",
      "photoUrl": "https://lh3.googleusercontent.com/a-/AOh14GgQ6XVfh8lgNDfSacthaskWgKXZzNDGdDEfAEkE7A=s64",
      "userId": "08157638656467437282"
     },
     "user_tz": -60
    },
    "id": "SARWXbxhmc70",
    "outputId": "ceeb2e3a-88e4-46a0-c2a6-713b736a5ed0"
   },
   "outputs": [
    {
     "data": {
      "text/html": [
       "<div>\n",
       "<style scoped>\n",
       "    .dataframe tbody tr th:only-of-type {\n",
       "        vertical-align: middle;\n",
       "    }\n",
       "\n",
       "    .dataframe tbody tr th {\n",
       "        vertical-align: top;\n",
       "    }\n",
       "\n",
       "    .dataframe thead th {\n",
       "        text-align: right;\n",
       "    }\n",
       "</style>\n",
       "<table border=\"1\" class=\"dataframe\">\n",
       "  <thead>\n",
       "    <tr style=\"text-align: right;\">\n",
       "      <th></th>\n",
       "      <th>index</th>\n",
       "      <th>Unnamed: 0</th>\n",
       "      <th>tweet_id</th>\n",
       "      <th>created_at</th>\n",
       "      <th>username</th>\n",
       "      <th>location</th>\n",
       "      <th>usermentions</th>\n",
       "      <th>retweet_count</th>\n",
       "      <th>full_text</th>\n",
       "      <th>hashtags</th>\n",
       "      <th>opinion</th>\n",
       "      <th>pos</th>\n",
       "      <th>neg</th>\n",
       "    </tr>\n",
       "  </thead>\n",
       "  <tbody>\n",
       "    <tr>\n",
       "      <th>0</th>\n",
       "      <td>0</td>\n",
       "      <td>0</td>\n",
       "      <td>860610466590142464</td>\n",
       "      <td>Fri May 05 21:41:39 +0000 2017</td>\n",
       "      <td>140327940</td>\n",
       "      <td>emiliaromagna</td>\n",
       "      <td>['DarioBallini']</td>\n",
       "      <td>0</td>\n",
       "      <td>chiss se autismo calato in modo proporzionale...</td>\n",
       "      <td>[autismo, morbillo, vaccini]</td>\n",
       "      <td>0</td>\n",
       "      <td>0.012192</td>\n",
       "      <td>0.070409</td>\n",
       "    </tr>\n",
       "    <tr>\n",
       "      <th>1</th>\n",
       "      <td>1</td>\n",
       "      <td>1</td>\n",
       "      <td>867724689698902016</td>\n",
       "      <td>Thu May 25 12:51:02 +0000 2017</td>\n",
       "      <td>556350111</td>\n",
       "      <td>sicilia</td>\n",
       "      <td>['l_gad48']</td>\n",
       "      <td>0</td>\n",
       "      <td>vaccini morbillo autismo graphicnovel forse co...</td>\n",
       "      <td>[vaccini, morbillo, autismo, graphicnovel]</td>\n",
       "      <td>-1</td>\n",
       "      <td>0.070326</td>\n",
       "      <td>0.484635</td>\n",
       "    </tr>\n",
       "    <tr>\n",
       "      <th>2</th>\n",
       "      <td>2</td>\n",
       "      <td>2</td>\n",
       "      <td>867363895920533504</td>\n",
       "      <td>Wed May 24 12:57:22 +0000 2017</td>\n",
       "      <td>1364930161</td>\n",
       "      <td>sicilia</td>\n",
       "      <td>[]</td>\n",
       "      <td>1</td>\n",
       "      <td>vaccini morbillo autismo graphicnovel forse co...</td>\n",
       "      <td>[vaccini, morbillo, autismo, graphicnovel]</td>\n",
       "      <td>-1</td>\n",
       "      <td>0.070326</td>\n",
       "      <td>0.484635</td>\n",
       "    </tr>\n",
       "    <tr>\n",
       "      <th>3</th>\n",
       "      <td>3</td>\n",
       "      <td>3</td>\n",
       "      <td>864769213046632448</td>\n",
       "      <td>Wed May 17 09:07:01 +0000 2017</td>\n",
       "      <td>824608965464129537</td>\n",
       "      <td>toscana</td>\n",
       "      <td>['MadheaG']</td>\n",
       "      <td>0</td>\n",
       "      <td>la scienza parla. meglio morbillo oggi che aut...</td>\n",
       "      <td>[scienza, morbillo, autismo, noobbligovaccinal...</td>\n",
       "      <td>0</td>\n",
       "      <td>0.128730</td>\n",
       "      <td>0.140054</td>\n",
       "    </tr>\n",
       "    <tr>\n",
       "      <th>4</th>\n",
       "      <td>4</td>\n",
       "      <td>4</td>\n",
       "      <td>864576616797753345</td>\n",
       "      <td>Tue May 16 20:21:43 +0000 2017</td>\n",
       "      <td>2885743858</td>\n",
       "      <td>toscana</td>\n",
       "      <td>['MadheaG']</td>\n",
       "      <td>0</td>\n",
       "      <td>la scienza parla. meglio morbillo oggi che aut...</td>\n",
       "      <td>[scienza, morbillo, autismo, noobbligovaccinal...</td>\n",
       "      <td>0</td>\n",
       "      <td>0.128730</td>\n",
       "      <td>0.140054</td>\n",
       "    </tr>\n",
       "    <tr>\n",
       "      <th>...</th>\n",
       "      <td>...</td>\n",
       "      <td>...</td>\n",
       "      <td>...</td>\n",
       "      <td>...</td>\n",
       "      <td>...</td>\n",
       "      <td>...</td>\n",
       "      <td>...</td>\n",
       "      <td>...</td>\n",
       "      <td>...</td>\n",
       "      <td>...</td>\n",
       "      <td>...</td>\n",
       "      <td>...</td>\n",
       "      <td>...</td>\n",
       "    </tr>\n",
       "    <tr>\n",
       "      <th>2249</th>\n",
       "      <td>3411</td>\n",
       "      <td>3411</td>\n",
       "      <td>931445898319626240</td>\n",
       "      <td>Fri Nov 17 08:56:22 +0000 2017</td>\n",
       "      <td>59720254</td>\n",
       "      <td>lombardia</td>\n",
       "      <td>['Mr_Ozymandias']</td>\n",
       "      <td>0</td>\n",
       "      <td>emiliano muore il 23 febbraio 2003. nove giorn...</td>\n",
       "      <td>[mpr]</td>\n",
       "      <td>0</td>\n",
       "      <td>0.000014</td>\n",
       "      <td>0.000012</td>\n",
       "    </tr>\n",
       "    <tr>\n",
       "      <th>2250</th>\n",
       "      <td>3416</td>\n",
       "      <td>3416</td>\n",
       "      <td>878172192596303872</td>\n",
       "      <td>Fri Jun 23 08:45:41 +0000 2017</td>\n",
       "      <td>2858863684</td>\n",
       "      <td>toscana</td>\n",
       "      <td>['citiamo']</td>\n",
       "      <td>0</td>\n",
       "      <td>vaccinazione obbligatoria, cosa ne pensi? morb...</td>\n",
       "      <td>[morbillo, sondaggi, citiamosondaggi, 23giugno]</td>\n",
       "      <td>-1</td>\n",
       "      <td>0.098466</td>\n",
       "      <td>0.428779</td>\n",
       "    </tr>\n",
       "    <tr>\n",
       "      <th>2251</th>\n",
       "      <td>3417</td>\n",
       "      <td>3417</td>\n",
       "      <td>888063868563587073</td>\n",
       "      <td>Thu Jul 20 15:51:40 +0000 2017</td>\n",
       "      <td>886632503041290240</td>\n",
       "      <td>piemonte</td>\n",
       "      <td>['DanielaMondorff']</td>\n",
       "      <td>0</td>\n",
       "      <td>freevax noobbligovaccinale senatore maurizio r...</td>\n",
       "      <td>[freevax, noobbligovaccinale]</td>\n",
       "      <td>0</td>\n",
       "      <td>0.015137</td>\n",
       "      <td>0.056942</td>\n",
       "    </tr>\n",
       "    <tr>\n",
       "      <th>2252</th>\n",
       "      <td>3418</td>\n",
       "      <td>3418</td>\n",
       "      <td>887962592756588544</td>\n",
       "      <td>Thu Jul 20 09:09:14 +0000 2017</td>\n",
       "      <td>367636617</td>\n",
       "      <td>lazio</td>\n",
       "      <td>['DanielaMondorff']</td>\n",
       "      <td>0</td>\n",
       "      <td>freevax noobbligovaccinale senatore maurizio r...</td>\n",
       "      <td>[freevax, noobbligovaccinale]</td>\n",
       "      <td>0</td>\n",
       "      <td>0.015137</td>\n",
       "      <td>0.056942</td>\n",
       "    </tr>\n",
       "    <tr>\n",
       "      <th>2253</th>\n",
       "      <td>3419</td>\n",
       "      <td>3419</td>\n",
       "      <td>887937504028000257</td>\n",
       "      <td>Thu Jul 20 07:29:32 +0000 2017</td>\n",
       "      <td>880585389177786369</td>\n",
       "      <td>lombardia</td>\n",
       "      <td>['DanielaMondorff']</td>\n",
       "      <td>0</td>\n",
       "      <td>freevax noobbligovaccinale senatore maurizio r...</td>\n",
       "      <td>[freevax, noobbligovaccinale]</td>\n",
       "      <td>0</td>\n",
       "      <td>0.015137</td>\n",
       "      <td>0.056942</td>\n",
       "    </tr>\n",
       "  </tbody>\n",
       "</table>\n",
       "<p>2254 rows × 13 columns</p>\n",
       "</div>"
      ],
      "text/plain": [
       "      index  Unnamed: 0            tweet_id  ... opinion       pos       neg\n",
       "0         0           0  860610466590142464  ...       0  0.012192  0.070409\n",
       "1         1           1  867724689698902016  ...      -1  0.070326  0.484635\n",
       "2         2           2  867363895920533504  ...      -1  0.070326  0.484635\n",
       "3         3           3  864769213046632448  ...       0  0.128730  0.140054\n",
       "4         4           4  864576616797753345  ...       0  0.128730  0.140054\n",
       "...     ...         ...                 ...  ...     ...       ...       ...\n",
       "2249   3411        3411  931445898319626240  ...       0  0.000014  0.000012\n",
       "2250   3416        3416  878172192596303872  ...      -1  0.098466  0.428779\n",
       "2251   3417        3417  888063868563587073  ...       0  0.015137  0.056942\n",
       "2252   3418        3418  887962592756588544  ...       0  0.015137  0.056942\n",
       "2253   3419        3419  887937504028000257  ...       0  0.015137  0.056942\n",
       "\n",
       "[2254 rows x 13 columns]"
      ]
     },
     "execution_count": 8,
     "metadata": {
      "tags": []
     },
     "output_type": "execute_result"
    }
   ],
   "source": [
    "# drop rows for which the column hashtag is empty (COSì ABBIAMO MENO PROBLEMI DOPO)\r\n",
    "df_geolist = df_geolist[df_geolist['hashtags'].map(lambda d: len(d)) > 0].reset_index()\r\n",
    "df_geolist"
   ]
  },
  {
   "cell_type": "code",
   "execution_count": null,
   "metadata": {
    "id": "tsjBIB8qe7S7"
   },
   "outputs": [],
   "source": [
    "hashtag_df = pd.DataFrame(columns=['hashtags','pro','neutral','con'])\r\n",
    "\r\n",
    "for _,row in df_geolist.iterrows():\r\n",
    "  h_list = row['hashtags']\r\n",
    "\r\n",
    "  for h in h_list:\r\n",
    "    if h in str(hashtag_df['hashtags']):\r\n",
    "      idx = hashtag_df[hashtag_df['hashtags'] == h].index.values\r\n",
    "\r\n",
    "      if row['opinion']==1:\r\n",
    "        hashtag_df.pro[idx] += 1\r\n",
    "      elif row['opinion'] == -1:\r\n",
    "        hashtag_df.con[idx]+=1\r\n",
    "      else:\r\n",
    "        hashtag_df.neutral[idx]+=1\r\n",
    "    \r\n",
    "    else:\r\n",
    "      if row['opinion']==1:\r\n",
    "        clean_hashtag = [h,1,0,0]\r\n",
    "      elif row['opinion'] == -1:\r\n",
    "        clean_hashtag = [h,0,0,1]\r\n",
    "      else:\r\n",
    "        clean_hashtag = [h,0,1,0]\r\n",
    "      hashtag_df.loc[len(hashtag_df)]=(clean_hashtag) "
   ]
  },
  {
   "cell_type": "code",
   "execution_count": null,
   "metadata": {
    "colab": {
     "base_uri": "https://localhost:8080/",
     "height": 424
    },
    "executionInfo": {
     "elapsed": 22556,
     "status": "ok",
     "timestamp": 1610711919173,
     "user": {
      "displayName": "Cinzia Ugwu",
      "photoUrl": "https://lh3.googleusercontent.com/a-/AOh14GgQ6XVfh8lgNDfSacthaskWgKXZzNDGdDEfAEkE7A=s64",
      "userId": "08157638656467437282"
     },
     "user_tz": -60
    },
    "id": "8iLzvaXxgUhG",
    "outputId": "8d85a562-c2b8-48b0-98a2-6cade51b009b"
   },
   "outputs": [
    {
     "data": {
      "text/html": [
       "<div>\n",
       "<style scoped>\n",
       "    .dataframe tbody tr th:only-of-type {\n",
       "        vertical-align: middle;\n",
       "    }\n",
       "\n",
       "    .dataframe tbody tr th {\n",
       "        vertical-align: top;\n",
       "    }\n",
       "\n",
       "    .dataframe thead th {\n",
       "        text-align: right;\n",
       "    }\n",
       "</style>\n",
       "<table border=\"1\" class=\"dataframe\">\n",
       "  <thead>\n",
       "    <tr style=\"text-align: right;\">\n",
       "      <th></th>\n",
       "      <th>hashtags</th>\n",
       "      <th>pro</th>\n",
       "      <th>neutral</th>\n",
       "      <th>con</th>\n",
       "    </tr>\n",
       "  </thead>\n",
       "  <tbody>\n",
       "    <tr>\n",
       "      <th>0</th>\n",
       "      <td>autismo</td>\n",
       "      <td>0</td>\n",
       "      <td>12</td>\n",
       "      <td>44</td>\n",
       "    </tr>\n",
       "    <tr>\n",
       "      <th>1</th>\n",
       "      <td>morbillo</td>\n",
       "      <td>144</td>\n",
       "      <td>564</td>\n",
       "      <td>657</td>\n",
       "    </tr>\n",
       "    <tr>\n",
       "      <th>2</th>\n",
       "      <td>vaccini</td>\n",
       "      <td>142</td>\n",
       "      <td>556</td>\n",
       "      <td>496</td>\n",
       "    </tr>\n",
       "    <tr>\n",
       "      <th>3</th>\n",
       "      <td>graphicnovel</td>\n",
       "      <td>0</td>\n",
       "      <td>0</td>\n",
       "      <td>6</td>\n",
       "    </tr>\n",
       "    <tr>\n",
       "      <th>4</th>\n",
       "      <td>scienza</td>\n",
       "      <td>0</td>\n",
       "      <td>8</td>\n",
       "      <td>4</td>\n",
       "    </tr>\n",
       "    <tr>\n",
       "      <th>...</th>\n",
       "      <td>...</td>\n",
       "      <td>...</td>\n",
       "      <td>...</td>\n",
       "      <td>...</td>\n",
       "    </tr>\n",
       "    <tr>\n",
       "      <th>2109</th>\n",
       "      <td>sondaggi</td>\n",
       "      <td>0</td>\n",
       "      <td>0</td>\n",
       "      <td>1</td>\n",
       "    </tr>\n",
       "    <tr>\n",
       "      <th>2110</th>\n",
       "      <td>citiamosondaggi</td>\n",
       "      <td>0</td>\n",
       "      <td>0</td>\n",
       "      <td>1</td>\n",
       "    </tr>\n",
       "    <tr>\n",
       "      <th>2111</th>\n",
       "      <td>23giugno</td>\n",
       "      <td>0</td>\n",
       "      <td>0</td>\n",
       "      <td>1</td>\n",
       "    </tr>\n",
       "    <tr>\n",
       "      <th>2112</th>\n",
       "      <td>freevax</td>\n",
       "      <td>0</td>\n",
       "      <td>3</td>\n",
       "      <td>0</td>\n",
       "    </tr>\n",
       "    <tr>\n",
       "      <th>2113</th>\n",
       "      <td>noobbligovaccinale</td>\n",
       "      <td>0</td>\n",
       "      <td>3</td>\n",
       "      <td>0</td>\n",
       "    </tr>\n",
       "  </tbody>\n",
       "</table>\n",
       "<p>2114 rows × 4 columns</p>\n",
       "</div>"
      ],
      "text/plain": [
       "                hashtags  pro neutral  con\n",
       "0                autismo    0      12   44\n",
       "1               morbillo  144     564  657\n",
       "2                vaccini  142     556  496\n",
       "3           graphicnovel    0       0    6\n",
       "4                scienza    0       8    4\n",
       "...                  ...  ...     ...  ...\n",
       "2109            sondaggi    0       0    1\n",
       "2110     citiamosondaggi    0       0    1\n",
       "2111            23giugno    0       0    1\n",
       "2112             freevax    0       3    0\n",
       "2113  noobbligovaccinale    0       3    0\n",
       "\n",
       "[2114 rows x 4 columns]"
      ]
     },
     "execution_count": 10,
     "metadata": {
      "tags": []
     },
     "output_type": "execute_result"
    }
   ],
   "source": [
    "hashtag_df"
   ]
  },
  {
   "cell_type": "code",
   "execution_count": null,
   "metadata": {
    "colab": {
     "base_uri": "https://localhost:8080/",
     "height": 424
    },
    "executionInfo": {
     "elapsed": 22297,
     "status": "ok",
     "timestamp": 1610711919173,
     "user": {
      "displayName": "Cinzia Ugwu",
      "photoUrl": "https://lh3.googleusercontent.com/a-/AOh14GgQ6XVfh8lgNDfSacthaskWgKXZzNDGdDEfAEkE7A=s64",
      "userId": "08157638656467437282"
     },
     "user_tz": -60
    },
    "id": "DJt86vvV9e6g",
    "outputId": "4399f3b3-5100-4ee1-a1b5-43ff486dd7b6"
   },
   "outputs": [
    {
     "data": {
      "text/html": [
       "<div>\n",
       "<style scoped>\n",
       "    .dataframe tbody tr th:only-of-type {\n",
       "        vertical-align: middle;\n",
       "    }\n",
       "\n",
       "    .dataframe tbody tr th {\n",
       "        vertical-align: top;\n",
       "    }\n",
       "\n",
       "    .dataframe thead th {\n",
       "        text-align: right;\n",
       "    }\n",
       "</style>\n",
       "<table border=\"1\" class=\"dataframe\">\n",
       "  <thead>\n",
       "    <tr style=\"text-align: right;\">\n",
       "      <th></th>\n",
       "      <th>hashtags</th>\n",
       "      <th>pro</th>\n",
       "      <th>neutral</th>\n",
       "      <th>con</th>\n",
       "    </tr>\n",
       "  </thead>\n",
       "  <tbody>\n",
       "    <tr>\n",
       "      <th>0</th>\n",
       "      <td>13luglio</td>\n",
       "      <td>0</td>\n",
       "      <td>1</td>\n",
       "      <td>0</td>\n",
       "    </tr>\n",
       "    <tr>\n",
       "      <th>1</th>\n",
       "      <td>13ottobre</td>\n",
       "      <td>0</td>\n",
       "      <td>1</td>\n",
       "      <td>0</td>\n",
       "    </tr>\n",
       "    <tr>\n",
       "      <th>2</th>\n",
       "      <td>16giugno</td>\n",
       "      <td>3</td>\n",
       "      <td>0</td>\n",
       "      <td>0</td>\n",
       "    </tr>\n",
       "    <tr>\n",
       "      <th>3</th>\n",
       "      <td>18luglio</td>\n",
       "      <td>18</td>\n",
       "      <td>0</td>\n",
       "      <td>0</td>\n",
       "    </tr>\n",
       "    <tr>\n",
       "      <th>4</th>\n",
       "      <td>18novembre</td>\n",
       "      <td>2</td>\n",
       "      <td>1</td>\n",
       "      <td>0</td>\n",
       "    </tr>\n",
       "    <tr>\n",
       "      <th>...</th>\n",
       "      <td>...</td>\n",
       "      <td>...</td>\n",
       "      <td>...</td>\n",
       "      <td>...</td>\n",
       "    </tr>\n",
       "    <tr>\n",
       "      <th>470</th>\n",
       "      <td>webeti</td>\n",
       "      <td>0</td>\n",
       "      <td>0</td>\n",
       "      <td>1</td>\n",
       "    </tr>\n",
       "    <tr>\n",
       "      <th>471</th>\n",
       "      <td>whatsapp</td>\n",
       "      <td>0</td>\n",
       "      <td>0</td>\n",
       "      <td>7</td>\n",
       "    </tr>\n",
       "    <tr>\n",
       "      <th>472</th>\n",
       "      <td>wikivaccini</td>\n",
       "      <td>0</td>\n",
       "      <td>2</td>\n",
       "      <td>0</td>\n",
       "    </tr>\n",
       "    <tr>\n",
       "      <th>473</th>\n",
       "      <td>winterishere</td>\n",
       "      <td>0</td>\n",
       "      <td>4</td>\n",
       "      <td>0</td>\n",
       "    </tr>\n",
       "    <tr>\n",
       "      <th>474</th>\n",
       "      <td>zaia</td>\n",
       "      <td>0</td>\n",
       "      <td>95</td>\n",
       "      <td>0</td>\n",
       "    </tr>\n",
       "  </tbody>\n",
       "</table>\n",
       "<p>475 rows × 4 columns</p>\n",
       "</div>"
      ],
      "text/plain": [
       "         hashtags  pro  neutral  con\n",
       "0        13luglio    0        1    0\n",
       "1       13ottobre    0        1    0\n",
       "2        16giugno    3        0    0\n",
       "3        18luglio   18        0    0\n",
       "4      18novembre    2        1    0\n",
       "..            ...  ...      ...  ...\n",
       "470        webeti    0        0    1\n",
       "471      whatsapp    0        0    7\n",
       "472   wikivaccini    0        2    0\n",
       "473  winterishere    0        4    0\n",
       "474          zaia    0       95    0\n",
       "\n",
       "[475 rows x 4 columns]"
      ]
     },
     "execution_count": 11,
     "metadata": {
      "tags": []
     },
     "output_type": "execute_result"
    }
   ],
   "source": [
    "hashtag_df = hashtag_df.groupby('hashtags', as_index=False).sum()\r\n",
    "hashtag_df"
   ]
  },
  {
   "cell_type": "code",
   "execution_count": null,
   "metadata": {
    "colab": {
     "base_uri": "https://localhost:8080/",
     "height": 424
    },
    "executionInfo": {
     "elapsed": 21090,
     "status": "ok",
     "timestamp": 1610711919175,
     "user": {
      "displayName": "Cinzia Ugwu",
      "photoUrl": "https://lh3.googleusercontent.com/a-/AOh14GgQ6XVfh8lgNDfSacthaskWgKXZzNDGdDEfAEkE7A=s64",
      "userId": "08157638656467437282"
     },
     "user_tz": -60
    },
    "id": "E_1gOGf2if2N",
    "outputId": "c2d71329-610e-4e6a-a247-b37cfd299a09"
   },
   "outputs": [
    {
     "data": {
      "text/html": [
       "<div>\n",
       "<style scoped>\n",
       "    .dataframe tbody tr th:only-of-type {\n",
       "        vertical-align: middle;\n",
       "    }\n",
       "\n",
       "    .dataframe tbody tr th {\n",
       "        vertical-align: top;\n",
       "    }\n",
       "\n",
       "    .dataframe thead th {\n",
       "        text-align: right;\n",
       "    }\n",
       "</style>\n",
       "<table border=\"1\" class=\"dataframe\">\n",
       "  <thead>\n",
       "    <tr style=\"text-align: right;\">\n",
       "      <th></th>\n",
       "      <th>hashtags</th>\n",
       "      <th>pro</th>\n",
       "      <th>neutral</th>\n",
       "      <th>con</th>\n",
       "      <th>opinion</th>\n",
       "    </tr>\n",
       "  </thead>\n",
       "  <tbody>\n",
       "    <tr>\n",
       "      <th>0</th>\n",
       "      <td>13luglio</td>\n",
       "      <td>0</td>\n",
       "      <td>1</td>\n",
       "      <td>0</td>\n",
       "      <td>0.000000</td>\n",
       "    </tr>\n",
       "    <tr>\n",
       "      <th>1</th>\n",
       "      <td>13ottobre</td>\n",
       "      <td>0</td>\n",
       "      <td>1</td>\n",
       "      <td>0</td>\n",
       "      <td>0.000000</td>\n",
       "    </tr>\n",
       "    <tr>\n",
       "      <th>2</th>\n",
       "      <td>16giugno</td>\n",
       "      <td>3</td>\n",
       "      <td>0</td>\n",
       "      <td>0</td>\n",
       "      <td>1.000000</td>\n",
       "    </tr>\n",
       "    <tr>\n",
       "      <th>3</th>\n",
       "      <td>18luglio</td>\n",
       "      <td>18</td>\n",
       "      <td>0</td>\n",
       "      <td>0</td>\n",
       "      <td>1.000000</td>\n",
       "    </tr>\n",
       "    <tr>\n",
       "      <th>4</th>\n",
       "      <td>18novembre</td>\n",
       "      <td>2</td>\n",
       "      <td>1</td>\n",
       "      <td>0</td>\n",
       "      <td>0.666667</td>\n",
       "    </tr>\n",
       "    <tr>\n",
       "      <th>...</th>\n",
       "      <td>...</td>\n",
       "      <td>...</td>\n",
       "      <td>...</td>\n",
       "      <td>...</td>\n",
       "      <td>...</td>\n",
       "    </tr>\n",
       "    <tr>\n",
       "      <th>470</th>\n",
       "      <td>webeti</td>\n",
       "      <td>0</td>\n",
       "      <td>0</td>\n",
       "      <td>1</td>\n",
       "      <td>-1.000000</td>\n",
       "    </tr>\n",
       "    <tr>\n",
       "      <th>471</th>\n",
       "      <td>whatsapp</td>\n",
       "      <td>0</td>\n",
       "      <td>0</td>\n",
       "      <td>7</td>\n",
       "      <td>-1.000000</td>\n",
       "    </tr>\n",
       "    <tr>\n",
       "      <th>472</th>\n",
       "      <td>wikivaccini</td>\n",
       "      <td>0</td>\n",
       "      <td>2</td>\n",
       "      <td>0</td>\n",
       "      <td>0.000000</td>\n",
       "    </tr>\n",
       "    <tr>\n",
       "      <th>473</th>\n",
       "      <td>winterishere</td>\n",
       "      <td>0</td>\n",
       "      <td>4</td>\n",
       "      <td>0</td>\n",
       "      <td>0.000000</td>\n",
       "    </tr>\n",
       "    <tr>\n",
       "      <th>474</th>\n",
       "      <td>zaia</td>\n",
       "      <td>0</td>\n",
       "      <td>95</td>\n",
       "      <td>0</td>\n",
       "      <td>0.000000</td>\n",
       "    </tr>\n",
       "  </tbody>\n",
       "</table>\n",
       "<p>475 rows × 5 columns</p>\n",
       "</div>"
      ],
      "text/plain": [
       "         hashtags  pro  neutral  con   opinion\n",
       "0        13luglio    0        1    0  0.000000\n",
       "1       13ottobre    0        1    0  0.000000\n",
       "2        16giugno    3        0    0  1.000000\n",
       "3        18luglio   18        0    0  1.000000\n",
       "4      18novembre    2        1    0  0.666667\n",
       "..            ...  ...      ...  ...       ...\n",
       "470        webeti    0        0    1 -1.000000\n",
       "471      whatsapp    0        0    7 -1.000000\n",
       "472   wikivaccini    0        2    0  0.000000\n",
       "473  winterishere    0        4    0  0.000000\n",
       "474          zaia    0       95    0  0.000000\n",
       "\n",
       "[475 rows x 5 columns]"
      ]
     },
     "execution_count": 12,
     "metadata": {
      "tags": []
     },
     "output_type": "execute_result"
    }
   ],
   "source": [
    "hashtag_df['opinion'] = (hashtag_df['pro']-hashtag_df['con']) / (hashtag_df['pro']+hashtag_df['con']+hashtag_df['neutral'])\r\n",
    "hashtag_df"
   ]
  },
  {
   "cell_type": "code",
   "execution_count": null,
   "metadata": {
    "colab": {
     "base_uri": "https://localhost:8080/",
     "height": 280
    },
    "executionInfo": {
     "elapsed": 28324,
     "status": "ok",
     "timestamp": 1610711247930,
     "user": {
      "displayName": "Cinzia Ugwu",
      "photoUrl": "https://lh3.googleusercontent.com/a-/AOh14GgQ6XVfh8lgNDfSacthaskWgKXZzNDGdDEfAEkE7A=s64",
      "userId": "08157638656467437282"
     },
     "user_tz": -60
    },
    "id": "SwUcvI8amC-3",
    "outputId": "3f0aad89-fe6a-4c3e-f0a4-d8f10c54fd68"
   },
   "outputs": [
    {
     "data": {
      "image/png": "[encoded data removed]",
      "text/plain": [
       "<Figure size 432x288 with 1 Axes>"
      ]
     },
     "metadata": {
      "needs_background": "light",
      "tags": []
     },
     "output_type": "display_data"
    }
   ],
   "source": [
    "ax = hashtag_df.plot.bar(x='hashtags', y='opinion', rot=0) i."
   ]
  },
  {
   "cell_type": "markdown",
   "metadata": {
    "id": "D5HRniHZpnLQ"
   },
   "source": [
    "# Creation of the network"
   ]
  },
  {
   "cell_type": "code",
   "execution_count": null,
   "metadata": {
    "id": "yGG8tvVg-MzB"
   },
   "outputs": [],
   "source": [
    "adj_dict = {}\r\n",
    "\r\n",
    "for _, tweet in df_geolist.iterrows():\r\n",
    "    #first column - user_id/tweet_id/author\r\n",
    "    column1 = tweet['username']\r\n",
    "    #second column - hashtags\r\n",
    "    column2 = tweet['hashtags']\r\n",
    "            \r\n",
    "    tweet_features = column2          \r\n",
    "    \r\n",
    "    #create a dictionary of edges\r\n",
    "    for feature in tweet_features:\r\n",
    "        if column1 in adj_dict.keys():\r\n",
    "            if feature in adj_dict[column1]:\r\n",
    "                adj_dict[column1][feature] += 1\r\n",
    "            else:\r\n",
    "                adj_dict[column1][feature] = 1\r\n",
    "        else:\r\n",
    "            adj_dict[column1] = {}\r\n",
    "            adj_dict[column1][feature] = {}\r\n",
    "            adj_dict[column1][feature] = 1\r\n",
    "            \r\n",
    "          \r\n",
    "# create a list of edges\r\n",
    "edges = []\r\n",
    "for key in adj_dict:\r\n",
    "    for feature in adj_dict[key]:\r\n",
    "        edges.append({'username': key ,'hashtags': feature , 'weight': adj_dict[key][feature]})\r\n",
    "#convert to pandas df\r\n",
    "edges = pd.DataFrame(edges)\r\n",
    "graph = nx.from_pandas_edgelist(edges, 'username', 'hashtags', ['weight'])       "
   ]
  },
  {
   "cell_type": "markdown",
   "metadata": {
    "id": "yPNcV9-ZSR3X"
   },
   "source": [
    "****"
   ]
  },
  {
   "cell_type": "code",
   "execution_count": null,
   "metadata": {
    "colab": {
     "base_uri": "https://localhost:8080/",
     "height": 319
    },
    "executionInfo": {
     "elapsed": 10769,
     "status": "ok",
     "timestamp": 1610711919860,
     "user": {
      "displayName": "Cinzia Ugwu",
      "photoUrl": "https://lh3.googleusercontent.com/a-/AOh14GgQ6XVfh8lgNDfSacthaskWgKXZzNDGdDEfAEkE7A=s64",
      "userId": "08157638656467437282"
     },
     "user_tz": -60
    },
    "id": "uNEPqMFHrbIr",
    "outputId": "800cb23f-8eba-4813-abd1-05ddcd7c3baf"
   },
   "outputs": [
    {
     "data": {
      "image/png": "[encoded data removed]",
      "text/plain": [
       "<Figure size 432x288 with 1 Axes>"
      ]
     },
     "metadata": {
      "tags": []
     },
     "output_type": "display_data"
    }
   ],
   "source": [
    "# print a bipartite graph\r\n",
    "components = sorted(nx.connected_components(graph), key=len, reverse=True)\r\n",
    "largest_component = components[0]\r\n",
    "C = graph.subgraph(largest_component)\r\n",
    "X, Y = nx.bipartite.sets(C)\r\n",
    "pos = dict()\r\n",
    "pos.update( (n, (1, i)) for i, n in enumerate(X) ) # put nodes from X at x=1\r\n",
    "pos.update( (n, (2, i)) for i, n in enumerate(Y) ) # put nodes from Y at x=2\r\n",
    "nx.draw(C, pos=pos)\r\n",
    "plt.show()"
   ]
  },
  {
   "cell_type": "code",
   "execution_count": null,
   "metadata": {
    "colab": {
     "base_uri": "https://localhost:8080/"
    },
    "executionInfo": {
     "elapsed": 7967,
     "status": "ok",
     "timestamp": 1610711919861,
     "user": {
      "displayName": "Cinzia Ugwu",
      "photoUrl": "https://lh3.googleusercontent.com/a-/AOh14GgQ6XVfh8lgNDfSacthaskWgKXZzNDGdDEfAEkE7A=s64",
      "userId": "08157638656467437282"
     },
     "user_tz": -60
    },
    "id": "gtuwSp9Ks4d_",
    "outputId": "f8332db7-92a7-4f61-f231-417a9afaa4b5"
   },
   "outputs": [
    {
     "name": "stdout",
     "output_type": "stream",
     "text": [
      "Name: \n",
      "Type: Graph\n",
      "Number of nodes: 1528\n",
      "Number of edges: 3455\n",
      "Average degree:   4.5223\n"
     ]
    }
   ],
   "source": [
    "print(nx.info(graph))"
   ]
  },
  {
   "cell_type": "code",
   "execution_count": null,
   "metadata": {
    "id": "6-diAMwarVFX"
   },
   "outputs": [],
   "source": [
    "hashtags_nodes = set(hashtag_df['hashtags'])\r\n",
    "username_nodes = set(df_geolist['username'])"
   ]
  },
  {
   "cell_type": "code",
   "execution_count": null,
   "metadata": {
    "id": "B6j3kEQtq2Bj"
   },
   "outputs": [],
   "source": [
    "G_p = nx.algorithms.bipartite.projection.generic_weighted_projected_graph(graph, username_nodes)\r\n",
    "G_h = nx.algorithms.bipartite.projection.generic_weighted_projected_graph(graph, hashtags_nodes)"
   ]
  },
  {
   "cell_type": "code",
   "execution_count": null,
   "metadata": {
    "colab": {
     "base_uri": "https://localhost:8080/"
    },
    "executionInfo": {
     "elapsed": 10861,
     "status": "ok",
     "timestamp": 1610711923963,
     "user": {
      "displayName": "Cinzia Ugwu",
      "photoUrl": "https://lh3.googleusercontent.com/a-/AOh14GgQ6XVfh8lgNDfSacthaskWgKXZzNDGdDEfAEkE7A=s64",
      "userId": "08157638656467437282"
     },
     "user_tz": -60
    },
    "id": "VMWwCqh2siCI",
    "outputId": "e7f3f46b-b264-4f42-9ea4-a4d7e72829ac"
   },
   "outputs": [
    {
     "name": "stdout",
     "output_type": "stream",
     "text": [
      "Name: Graph for users projection\n",
      "Type: Graph\n",
      "Number of nodes: 1049\n",
      "Number of edges: 301676\n",
      "Average degree: 575.1687\n",
      "\n",
      "\n",
      "Name: Graph for hashtag projection\n",
      "Type: Graph\n",
      "Number of nodes: 479\n",
      "Number of edges: 15611\n",
      "Average degree:  65.1816\n"
     ]
    }
   ],
   "source": [
    "G_h.name = f\"Graph for hashtag projection\"\r\n",
    "G_p.name = f\"Graph for users projection\"\r\n",
    "\r\n",
    "print(nx.info(G_p))\r\n",
    "print('\\n')\r\n",
    "print(nx.info(G_h))"
   ]
  },
  {
   "cell_type": "code",
   "execution_count": null,
   "metadata": {
    "id": "bCYnsl3KoVw3"
   },
   "outputs": [],
   "source": [
    "def print_edge_dist(G):\r\n",
    "    edges = nx.to_pandas_edgelist(G)\r\n",
    "    weights_df = pd.DataFrame(edges.weight.value_counts().reset_index().values, columns=[\"weight\", \"count\"])\r\n",
    "    weights_df = weights_df.sort_index(axis = 0, ascending=True)\r\n",
    "    plt.figure()\r\n",
    "    plt.grid(True)\r\n",
    "    plt.plot(weights_df['weight'], weights_df['count'], 'ro-')\r\n",
    "    plt.xlabel('Weights')\r\n",
    "    plt.ylabel('Count')\r\n",
    "    plt.title('Weights distribution')\r\n",
    "    plt.savefig('weights_dist.png')\r\n",
    "    #plt.xlim([10**1,2*10**2])\r\n",
    "    plt.show()\r\n",
    "    plt.close()"
   ]
  },
  {
   "cell_type": "code",
   "execution_count": null,
   "metadata": {
    "colab": {
     "base_uri": "https://localhost:8080/",
     "height": 295
    },
    "executionInfo": {
     "elapsed": 2591,
     "status": "ok",
     "timestamp": 1610616818698,
     "user": {
      "displayName": "Cinzia Ugwu",
      "photoUrl": "https://lh3.googleusercontent.com/a-/AOh14GgQ6XVfh8lgNDfSacthaskWgKXZzNDGdDEfAEkE7A=s64",
      "userId": "08157638656467437282"
     },
     "user_tz": -60
    },
    "id": "AGfh6EF4oqiR",
    "outputId": "cf81c46b-6e2d-4c16-eb87-c2700ecf49de"
   },
   "outputs": [
    {
     "data": {
      "image/png": "[encoded data removed]",
      "text/plain": [
       "<Figure size 432x288 with 1 Axes>"
      ]
     },
     "metadata": {
      "needs_background": "light",
      "tags": []
     },
     "output_type": "display_data"
    }
   ],
   "source": [
    "print_edge_dist(G_p)"
   ]
  },
  {
   "cell_type": "code",
   "execution_count": null,
   "metadata": {
    "colab": {
     "base_uri": "https://localhost:8080/",
     "height": 295
    },
    "executionInfo": {
     "elapsed": 980,
     "status": "ok",
     "timestamp": 1610616866142,
     "user": {
      "displayName": "Cinzia Ugwu",
      "photoUrl": "https://lh3.googleusercontent.com/a-/AOh14GgQ6XVfh8lgNDfSacthaskWgKXZzNDGdDEfAEkE7A=s64",
      "userId": "08157638656467437282"
     },
     "user_tz": -60
    },
    "id": "E5xPQoy6owOU",
    "outputId": "95bbf666-fb01-41c6-90b1-b570dbf937b7"
   },
   "outputs": [
    {
     "data": {
      "image/png": "[encoded data removed]",
      "text/plain": [
       "<Figure size 432x288 with 1 Axes>"
      ]
     },
     "metadata": {
      "needs_background": "light",
      "tags": []
     },
     "output_type": "display_data"
    }
   ],
   "source": [
    "print_edge_dist(G_h)"
   ]
  },
  {
   "cell_type": "code",
   "execution_count": null,
   "metadata": {
    "colab": {
     "base_uri": "https://localhost:8080/",
     "height": 771
    },
    "executionInfo": {
     "elapsed": 2595,
     "status": "ok",
     "timestamp": 1610556405533,
     "user": {
      "displayName": "Cinzia Ugwu",
      "photoUrl": "https://lh3.googleusercontent.com/a-/AOh14GgQ6XVfh8lgNDfSacthaskWgKXZzNDGdDEfAEkE7A=s64",
      "userId": "08157638656467437282"
     },
     "user_tz": -60
    },
    "id": "zUEEY44hoAHY",
    "outputId": "052da977-b590-4dca-9194-6e63cd7f4812"
   },
   "outputs": [
    {
     "data": {
      "text/html": [
       "<div>\n",
       "<style scoped>\n",
       "    .dataframe tbody tr th:only-of-type {\n",
       "        vertical-align: middle;\n",
       "    }\n",
       "\n",
       "    .dataframe tbody tr th {\n",
       "        vertical-align: top;\n",
       "    }\n",
       "\n",
       "    .dataframe thead th {\n",
       "        text-align: right;\n",
       "    }\n",
       "</style>\n",
       "<table border=\"1\" class=\"dataframe\">\n",
       "  <thead>\n",
       "    <tr style=\"text-align: right;\">\n",
       "      <th></th>\n",
       "      <th>weight</th>\n",
       "      <th>count</th>\n",
       "    </tr>\n",
       "  </thead>\n",
       "  <tbody>\n",
       "    <tr>\n",
       "      <th>0</th>\n",
       "      <td>1</td>\n",
       "      <td>190338</td>\n",
       "    </tr>\n",
       "    <tr>\n",
       "      <th>1</th>\n",
       "      <td>2</td>\n",
       "      <td>64687</td>\n",
       "    </tr>\n",
       "    <tr>\n",
       "      <th>2</th>\n",
       "      <td>3</td>\n",
       "      <td>6982</td>\n",
       "    </tr>\n",
       "    <tr>\n",
       "      <th>3</th>\n",
       "      <td>4</td>\n",
       "      <td>1510</td>\n",
       "    </tr>\n",
       "    <tr>\n",
       "      <th>4</th>\n",
       "      <td>5</td>\n",
       "      <td>305</td>\n",
       "    </tr>\n",
       "    <tr>\n",
       "      <th>5</th>\n",
       "      <td>6</td>\n",
       "      <td>218</td>\n",
       "    </tr>\n",
       "    <tr>\n",
       "      <th>6</th>\n",
       "      <td>7</td>\n",
       "      <td>54</td>\n",
       "    </tr>\n",
       "    <tr>\n",
       "      <th>7</th>\n",
       "      <td>9</td>\n",
       "      <td>42</td>\n",
       "    </tr>\n",
       "    <tr>\n",
       "      <th>8</th>\n",
       "      <td>10</td>\n",
       "      <td>32</td>\n",
       "    </tr>\n",
       "    <tr>\n",
       "      <th>9</th>\n",
       "      <td>8</td>\n",
       "      <td>26</td>\n",
       "    </tr>\n",
       "    <tr>\n",
       "      <th>10</th>\n",
       "      <td>12</td>\n",
       "      <td>14</td>\n",
       "    </tr>\n",
       "    <tr>\n",
       "      <th>11</th>\n",
       "      <td>13</td>\n",
       "      <td>10</td>\n",
       "    </tr>\n",
       "    <tr>\n",
       "      <th>12</th>\n",
       "      <td>11</td>\n",
       "      <td>9</td>\n",
       "    </tr>\n",
       "    <tr>\n",
       "      <th>13</th>\n",
       "      <td>14</td>\n",
       "      <td>9</td>\n",
       "    </tr>\n",
       "    <tr>\n",
       "      <th>14</th>\n",
       "      <td>15</td>\n",
       "      <td>6</td>\n",
       "    </tr>\n",
       "    <tr>\n",
       "      <th>15</th>\n",
       "      <td>16</td>\n",
       "      <td>4</td>\n",
       "    </tr>\n",
       "    <tr>\n",
       "      <th>16</th>\n",
       "      <td>17</td>\n",
       "      <td>2</td>\n",
       "    </tr>\n",
       "    <tr>\n",
       "      <th>17</th>\n",
       "      <td>18</td>\n",
       "      <td>2</td>\n",
       "    </tr>\n",
       "    <tr>\n",
       "      <th>18</th>\n",
       "      <td>19</td>\n",
       "      <td>2</td>\n",
       "    </tr>\n",
       "    <tr>\n",
       "      <th>19</th>\n",
       "      <td>26</td>\n",
       "      <td>1</td>\n",
       "    </tr>\n",
       "    <tr>\n",
       "      <th>20</th>\n",
       "      <td>20</td>\n",
       "      <td>1</td>\n",
       "    </tr>\n",
       "    <tr>\n",
       "      <th>21</th>\n",
       "      <td>21</td>\n",
       "      <td>1</td>\n",
       "    </tr>\n",
       "    <tr>\n",
       "      <th>22</th>\n",
       "      <td>31</td>\n",
       "      <td>1</td>\n",
       "    </tr>\n",
       "  </tbody>\n",
       "</table>\n",
       "</div>"
      ],
      "text/plain": [
       "    weight   count\n",
       "0        1  190338\n",
       "1        2   64687\n",
       "2        3    6982\n",
       "3        4    1510\n",
       "4        5     305\n",
       "5        6     218\n",
       "6        7      54\n",
       "7        9      42\n",
       "8       10      32\n",
       "9        8      26\n",
       "10      12      14\n",
       "11      13      10\n",
       "12      11       9\n",
       "13      14       9\n",
       "14      15       6\n",
       "15      16       4\n",
       "16      17       2\n",
       "17      18       2\n",
       "18      19       2\n",
       "19      26       1\n",
       "20      20       1\n",
       "21      21       1\n",
       "22      31       1"
      ]
     },
     "execution_count": 69,
     "metadata": {
      "tags": []
     },
     "output_type": "execute_result"
    }
   ],
   "source": [
    "ed = nx.to_pandas_edgelist(G_p)\r\n",
    "weights_df = pd.DataFrame(ed.weight.value_counts().reset_index().values, columns=[\"weight\", \"count\"])\r\n",
    "weights_df = weights_df.sort_index(axis = 0, ascending=True)\r\n",
    "weights_df"
   ]
  },
  {
   "cell_type": "code",
   "execution_count": null,
   "metadata": {
    "id": "XYSGb7Hwlajx"
   },
   "outputs": [],
   "source": [
    "def filtered_projection(G, threshold):\r\n",
    "    edges = nx.to_pandas_edgelist(G)\r\n",
    "    edges = edges.to_dict('records')\r\n",
    "    weights = [edge['weight'] for edge in edges]\r\n",
    "    filtered_edges = []\r\n",
    "    \r\n",
    "    for edge  in edges:\r\n",
    "        if edge['weight']>threshold:\r\n",
    "            filtered_edges.append(edge)\r\n",
    "    filtered_edges = pd.DataFrame(filtered_edges)\r\n",
    "    if len(filtered_edges)==0:\r\n",
    "        print(\"All the edges would be removed! No edge has been removed.\")\r\n",
    "    else:\r\n",
    "        G = nx.from_pandas_edgelist(filtered_edges,'source', 'target', ['weight'])\r\n",
    "    \r\n",
    "    return G"
   ]
  },
  {
   "cell_type": "code",
   "execution_count": null,
   "metadata": {
    "id": "3UEjJB5hoRGA"
   },
   "outputs": [],
   "source": [
    "G_p = filtered_projection(G_p,2)\r\n",
    "G_h = filtered_projection(G_h,1)"
   ]
  },
  {
   "cell_type": "code",
   "execution_count": null,
   "metadata": {
    "colab": {
     "base_uri": "https://localhost:8080/"
    },
    "executionInfo": {
     "elapsed": 7383,
     "status": "ok",
     "timestamp": 1610711927017,
     "user": {
      "displayName": "Cinzia Ugwu",
      "photoUrl": "https://lh3.googleusercontent.com/a-/AOh14GgQ6XVfh8lgNDfSacthaskWgKXZzNDGdDEfAEkE7A=s64",
      "userId": "08157638656467437282"
     },
     "user_tz": -60
    },
    "id": "s9TRtjt-QFKw",
    "outputId": "d8387954-d655-4468-a592-f4a723d9e22c"
   },
   "outputs": [
    {
     "name": "stdout",
     "output_type": "stream",
     "text": [
      "Name: Graph for users projection\n",
      "Type: Graph\n",
      "Number of nodes: 397\n",
      "Number of edges: 10620\n",
      "Average degree:  53.5013\n",
      "\n",
      "\n",
      "Name: Graph for hashtag projection\n",
      "Type: Graph\n",
      "Number of nodes: 206\n",
      "Number of edges: 2307\n",
      "Average degree:  22.3981\n"
     ]
    }
   ],
   "source": [
    "G_h.name = f\"Graph for hashtag projection\"\r\n",
    "G_p.name = f\"Graph for users projection\"\r\n",
    "\r\n",
    "print(nx.info(G_p))\r\n",
    "print('\\n')\r\n",
    "print(nx.info(G_h))"
   ]
  },
  {
   "cell_type": "code",
   "execution_count": null,
   "metadata": {
    "colab": {
     "base_uri": "https://localhost:8080/",
     "height": 295
    },
    "executionInfo": {
     "elapsed": 1032,
     "status": "ok",
     "timestamp": 1610617042683,
     "user": {
      "displayName": "Cinzia Ugwu",
      "photoUrl": "https://lh3.googleusercontent.com/a-/AOh14GgQ6XVfh8lgNDfSacthaskWgKXZzNDGdDEfAEkE7A=s64",
      "userId": "08157638656467437282"
     },
     "user_tz": -60
    },
    "id": "C2oZQXR2o-GA",
    "outputId": "bdf70aed-6f30-4935-88e5-e7ae33f593fa"
   },
   "outputs": [
    {
     "data": {
      "image/png": "[encoded data removed]",
      "text/plain": [
       "<Figure size 432x288 with 1 Axes>"
      ]
     },
     "metadata": {
      "needs_background": "light",
      "tags": []
     },
     "output_type": "display_data"
    }
   ],
   "source": [
    "print_edge_dist(G_p)"
   ]
  },
  {
   "cell_type": "code",
   "execution_count": null,
   "metadata": {
    "colab": {
     "base_uri": "https://localhost:8080/",
     "height": 295
    },
    "executionInfo": {
     "elapsed": 1028,
     "status": "ok",
     "timestamp": 1610617094715,
     "user": {
      "displayName": "Cinzia Ugwu",
      "photoUrl": "https://lh3.googleusercontent.com/a-/AOh14GgQ6XVfh8lgNDfSacthaskWgKXZzNDGdDEfAEkE7A=s64",
      "userId": "08157638656467437282"
     },
     "user_tz": -60
    },
    "id": "GOMaGe7CphFL",
    "outputId": "4dbd902b-4bbe-4456-82b2-d8e6361e6663"
   },
   "outputs": [
    {
     "data": {
      "image/png": "[encoded data removed]",
      "text/plain": [
       "<Figure size 432x288 with 1 Axes>"
      ]
     },
     "metadata": {
      "needs_background": "light",
      "tags": []
     },
     "output_type": "display_data"
    }
   ],
   "source": [
    "print_edge_dist(G_h)"
   ]
  },
  {
   "cell_type": "code",
   "execution_count": null,
   "metadata": {
    "id": "ciVqY_h5UJfa"
   },
   "outputs": [],
   "source": [
    "def draw_adjacency_matrix(G, node_order=None, partitions=[], colors=[]):\r\n",
    "    \"\"\"\r\n",
    "    - G is a netorkx graph\r\n",
    "    - node_order (optional) is a list of nodes, where each node in G\r\n",
    "          appears exactly once\r\n",
    "    - partitions is a list of node lists, where each node in G appears\r\n",
    "          in exactly one node list\r\n",
    "    - colors is a list of strings indicating what color each\r\n",
    "          partition should be\r\n",
    "    If partitions is specified, the same number of colors needs to be\r\n",
    "    specified.\r\n",
    "    \"\"\"\r\n",
    "    adjacency_matrix = nx.to_numpy_matrix(G, dtype=np.int, nodelist=node_order)\r\n",
    "\r\n",
    "    #Plot adjacency matrix in toned-down black and white\r\n",
    "    fig = pyplot.figure(figsize=(5, 5)) # in inches\r\n",
    "    pyplot.imshow(adjacency_matrix,\r\n",
    "                  cmap=\"Greys\",\r\n",
    "                  interpolation=\"none\")\r\n",
    "    return fig"
   ]
  },
  {
   "cell_type": "code",
   "execution_count": null,
   "metadata": {
    "colab": {
     "base_uri": "https://localhost:8080/",
     "height": 323
    },
    "executionInfo": {
     "elapsed": 1226,
     "status": "ok",
     "timestamp": 1610617195169,
     "user": {
      "displayName": "Cinzia Ugwu",
      "photoUrl": "https://lh3.googleusercontent.com/a-/AOh14GgQ6XVfh8lgNDfSacthaskWgKXZzNDGdDEfAEkE7A=s64",
      "userId": "08157638656467437282"
     },
     "user_tz": -60
    },
    "id": "kShGUdA1UJhi",
    "outputId": "85d1bc9e-5cad-4c80-eea6-8953b3327de4"
   },
   "outputs": [
    {
     "data": {
      "image/png": "[encoded data removed]",
      "text/plain": [
       "<Figure size 360x360 with 1 Axes>"
      ]
     },
     "metadata": {
      "needs_background": "light",
      "tags": []
     },
     "output_type": "display_data"
    }
   ],
   "source": [
    "fig = draw_adjacency_matrix(G_p)\r\n",
    "fig.savefig(\"filterted_users_adj.png\")"
   ]
  },
  {
   "cell_type": "code",
   "execution_count": null,
   "metadata": {
    "colab": {
     "base_uri": "https://localhost:8080/",
     "height": 323
    },
    "executionInfo": {
     "elapsed": 959,
     "status": "ok",
     "timestamp": 1610617217551,
     "user": {
      "displayName": "Cinzia Ugwu",
      "photoUrl": "https://lh3.googleusercontent.com/a-/AOh14GgQ6XVfh8lgNDfSacthaskWgKXZzNDGdDEfAEkE7A=s64",
      "userId": "08157638656467437282"
     },
     "user_tz": -60
    },
    "id": "RIb4f6AzU-I0",
    "outputId": "4272b788-3a61-4a79-bf12-819e99a07e4f"
   },
   "outputs": [
    {
     "data": {
      "image/png": "[encoded data removed]",
      "text/plain": [
       "<Figure size 360x360 with 1 Axes>"
      ]
     },
     "metadata": {
      "needs_background": "light",
      "tags": []
     },
     "output_type": "display_data"
    }
   ],
   "source": [
    "fig = draw_adjacency_matrix(G_h)\r\n",
    "fig.savefig(\"filtered_hashtags_adj.png\")"
   ]
  },
  {
   "cell_type": "code",
   "execution_count": null,
   "metadata": {
    "id": "Qw-EZoMzU-NC"
   },
   "outputs": [],
   "source": [
    "# serve per caricare/scaricare grafi\r\n",
    "nx.write_adjlist(G_h, \"hashtag_projection.adjlist\")\r\n",
    "# G_h = nx.read_adjlist(\"hashtag_projection.adjlist\")\r\n",
    "\r\n",
    "nx.write_adjlist(G_p,\"users_projection.adjlist\")\r\n",
    "# G_p = nx.read_adjlist(\"users_projection.adjlist\")"
   ]
  },
  {
   "cell_type": "code",
   "execution_count": null,
   "metadata": {
    "id": "CwqfpUM4l4AH"
   },
   "outputs": [],
   "source": [
    "'''\r\n",
    "    To have nodes and edges that can be used also in Gephi. I have added a function to deal with nodes' attrbute.\r\n",
    "'''\r\n",
    "def get_nodes(G):\r\n",
    "   \r\n",
    "    id_ = list(range(1, len(G.nodes)))\r\n",
    "    id_ = pd.Series(id_, dtype = int)\r\n",
    "    nodes_graph = pd.Series(list(G.nodes()))   \r\n",
    "    nodes = pd.concat([id_, nodes_graph], axis = 1)    \r\n",
    "    #GEPHI convention\r\n",
    "    nodes.columns=['Id','Label']    \r\n",
    "    #remove duplicates\r\n",
    "    nodes = nodes.drop_duplicates(subset='Id')   \r\n",
    "    return nodes\r\n",
    "    \r\n",
    "def get_edges(G):\r\n",
    "    \r\n",
    "    # create the edge list with gephi convention\r\n",
    "    edges_list = pd.DataFrame(columns=['Source','Target','Weight'])\r\n",
    "    \r\n",
    "    edges = list(G.edges(data=True))\r\n",
    "    source = []\r\n",
    "    target = []\r\n",
    "    weight = []\r\n",
    "    for i in range(len(edges)):\r\n",
    "        source.append(edges[i][0])\r\n",
    "        target.append(edges[i][1])\r\n",
    "        weight.append(list(edges[i][2].values())[0])\r\n",
    "    edges_list['Source'] = source\r\n",
    "    edges_list['Target'] = target\r\n",
    "    edges_list['Weight'] = weight\r\n",
    "                \r\n",
    "    return edges_list\r\n",
    "\r\n",
    "nodes_df = df_geolist.groupby('username', as_index=False)['opinion'].mean()\r\n",
    "names = pd.Series(nodes_df['username'])\r\n",
    "nodes_users = pd.concat([names, nodes_df], axis = 1)\r\n",
    "nodes_users.columns=['Id', 'Label', 'Attr']\r\n",
    "\r\n",
    "hash = pd.Series(hashtag_df['hashtags'])\r\n",
    "pol = pd.Series(hashtag_df['opinion'])\r\n",
    "nodes_hashtags = pd.concat([hash,hash,pol], axis=1)\r\n",
    "nodes_hashtags.columns=['Id', 'Label', 'Attr']"
   ]
  },
  {
   "cell_type": "code",
   "execution_count": null,
   "metadata": {
    "id": "n6nv9TCWU-Oh"
   },
   "outputs": [],
   "source": [
    "#nodes_h = get_nodes(hashtags_graph)\r\n",
    "nodes_hashtags.to_csv(\"nodes_hashtags_projection.csv\", index=False)\r\n",
    "\r\n",
    "edges_h = get_edges(G_h)\r\n",
    "edges_h.to_csv(\"edges_hashtag_projection.csv\", index=False)\r\n",
    "\r\n",
    "#nodes_p = user_nodes(df_geolist)\r\n",
    "nodes_users.to_csv(\"nodes_users_projection.csv\", index=False)\r\n",
    "\r\n",
    "edges_p = get_edges(G_p)\r\n",
    "edges_p.to_csv(\"edges_users_projection.csv\", index=False)"
   ]
  },
  {
   "cell_type": "code",
   "execution_count": null,
   "metadata": {
    "id": "SNCeQixC1Nfi"
   },
   "outputs": [],
   "source": [
    "from analysis_class import NetworkAnalysis"
   ]
  },
  {
   "cell_type": "markdown",
   "metadata": {
    "id": "OG8DXbU860Mj"
   },
   "source": [
    "# Hashtag projection"
   ]
  },
  {
   "cell_type": "code",
   "execution_count": null,
   "metadata": {
    "colab": {
     "base_uri": "https://localhost:8080/"
    },
    "executionInfo": {
     "elapsed": 686,
     "status": "ok",
     "timestamp": 1610711994727,
     "user": {
      "displayName": "Cinzia Ugwu",
      "photoUrl": "https://lh3.googleusercontent.com/a-/AOh14GgQ6XVfh8lgNDfSacthaskWgKXZzNDGdDEfAEkE7A=s64",
      "userId": "08157638656467437282"
     },
     "user_tz": -60
    },
    "id": "EHvJZ2Cp1lNl",
    "outputId": "c2253b24-6baf-4611-9c7c-ebc926651f72"
   },
   "outputs": [
    {
     "name": "stdout",
     "output_type": "stream",
     "text": [
      "Name: Graph for hashtag projection\n",
      "Type: Graph\n",
      "Number of nodes: 206\n",
      "Number of edges: 2307\n",
      "Average degree:  22.3981\n"
     ]
    }
   ],
   "source": [
    "NetworkAnalysis.get_graph_info(G_h)"
   ]
  },
  {
   "cell_type": "code",
   "execution_count": null,
   "metadata": {
    "colab": {
     "base_uri": "https://localhost:8080/"
    },
    "executionInfo": {
     "elapsed": 716,
     "status": "ok",
     "timestamp": 1610711997125,
     "user": {
      "displayName": "Cinzia Ugwu",
      "photoUrl": "https://lh3.googleusercontent.com/a-/AOh14GgQ6XVfh8lgNDfSacthaskWgKXZzNDGdDEfAEkE7A=s64",
      "userId": "08157638656467437282"
     },
     "user_tz": -60
    },
    "id": "Get2xCse2L7r",
    "outputId": "2f20a2b6-534b-43e7-e491-a9d9e22ddc61"
   },
   "outputs": [
    {
     "name": "stdout",
     "output_type": "stream",
     "text": [
      "Graph density: 0.10925882074354724\n"
     ]
    },
    {
     "data": {
      "text/plain": [
       "0.10925882074354724"
      ]
     },
     "execution_count": 26,
     "metadata": {
      "tags": []
     },
     "output_type": "execute_result"
    }
   ],
   "source": [
    "NetworkAnalysis.graph_density(G_h)"
   ]
  },
  {
   "cell_type": "code",
   "execution_count": null,
   "metadata": {
    "colab": {
     "base_uri": "https://localhost:8080/",
     "height": 304
    },
    "executionInfo": {
     "elapsed": 1151,
     "status": "ok",
     "timestamp": 1610712000339,
     "user": {
      "displayName": "Cinzia Ugwu",
      "photoUrl": "https://lh3.googleusercontent.com/a-/AOh14GgQ6XVfh8lgNDfSacthaskWgKXZzNDGdDEfAEkE7A=s64",
      "userId": "08157638656467437282"
     },
     "user_tz": -60
    },
    "id": "KATqM64n28uz",
    "outputId": "5f38af8f-a2ee-46ab-c627-1803a7e0806b"
   },
   "outputs": [
    {
     "name": "stdout",
     "output_type": "stream",
     "text": [
      "Is the graph connected: no\n"
     ]
    },
    {
     "data": {
      "image/png": "[encoded data removed]",
      "text/plain": [
       "<Figure size 432x288 with 1 Axes>"
      ]
     },
     "metadata": {
      "tags": []
     },
     "output_type": "display_data"
    },
    {
     "name": "stdout",
     "output_type": "stream",
     "text": [
      "Nodes in the isolated components 2\n",
      "Nodes in the connected component 204\n"
     ]
    }
   ],
   "source": [
    "NetworkAnalysis.is_connected(G_h)"
   ]
  },
  {
   "cell_type": "code",
   "execution_count": null,
   "metadata": {
    "colab": {
     "base_uri": "https://localhost:8080/"
    },
    "executionInfo": {
     "elapsed": 758,
     "status": "ok",
     "timestamp": 1610712003524,
     "user": {
      "displayName": "Cinzia Ugwu",
      "photoUrl": "https://lh3.googleusercontent.com/a-/AOh14GgQ6XVfh8lgNDfSacthaskWgKXZzNDGdDEfAEkE7A=s64",
      "userId": "08157638656467437282"
     },
     "user_tz": -60
    },
    "id": "hVK6HCti3LWG",
    "outputId": "dd131dfb-c751-4edf-83db-006b79ac1336"
   },
   "outputs": [
    {
     "name": "stdout",
     "output_type": "stream",
     "text": [
      "Network diameter: 4\n"
     ]
    },
    {
     "data": {
      "text/plain": [
       "4"
      ]
     },
     "execution_count": 28,
     "metadata": {
      "tags": []
     },
     "output_type": "execute_result"
    }
   ],
   "source": [
    "NetworkAnalysis.diameter_len(G_h)"
   ]
  },
  {
   "cell_type": "code",
   "execution_count": null,
   "metadata": {
    "colab": {
     "base_uri": "https://localhost:8080/"
    },
    "executionInfo": {
     "elapsed": 793,
     "status": "ok",
     "timestamp": 1610712005811,
     "user": {
      "displayName": "Cinzia Ugwu",
      "photoUrl": "https://lh3.googleusercontent.com/a-/AOh14GgQ6XVfh8lgNDfSacthaskWgKXZzNDGdDEfAEkE7A=s64",
      "userId": "08157638656467437282"
     },
     "user_tz": -60
    },
    "id": "NfDv19GO4EPF",
    "outputId": "369927aa-8f07-4af5-a10c-3f90543a3868"
   },
   "outputs": [
    {
     "name": "stdout",
     "output_type": "stream",
     "text": [
      "Average path length: 1.9360119766262616\n"
     ]
    },
    {
     "data": {
      "text/plain": [
       "1.9360119766262616"
      ]
     },
     "execution_count": 29,
     "metadata": {
      "tags": []
     },
     "output_type": "execute_result"
    }
   ],
   "source": [
    "NetworkAnalysis.average_path_len(G_h)"
   ]
  },
  {
   "cell_type": "code",
   "execution_count": null,
   "metadata": {
    "colab": {
     "base_uri": "https://localhost:8080/"
    },
    "executionInfo": {
     "elapsed": 706,
     "status": "ok",
     "timestamp": 1610712008289,
     "user": {
      "displayName": "Cinzia Ugwu",
      "photoUrl": "https://lh3.googleusercontent.com/a-/AOh14GgQ6XVfh8lgNDfSacthaskWgKXZzNDGdDEfAEkE7A=s64",
      "userId": "08157638656467437282"
     },
     "user_tz": -60
    },
    "id": "Zi53NUWR4IGL",
    "outputId": "157ef146-cdc3-48e7-9d19-abd8977b7629"
   },
   "outputs": [
    {
     "name": "stdout",
     "output_type": "stream",
     "text": [
      "Shortest path =  liberascelta dallavostraparte provax\n",
      "Length of the shortest path =  2\n",
      "\n",
      "\n",
      "Shortest path =  freevax noobbligovaccinale\n",
      "Length of the shortest path =  1\n"
     ]
    }
   ],
   "source": [
    "NetworkAnalysis.BFS_SP(G_h, 'liberascelta', 'provax')\r\n",
    "print('\\n')\r\n",
    "NetworkAnalysis.BFS_SP(G_h, 'freevax', 'noobbligovaccinale') #the correct is MovingForward"
   ]
  },
  {
   "cell_type": "code",
   "execution_count": null,
   "metadata": {
    "colab": {
     "base_uri": "https://localhost:8080/",
     "height": 677
    },
    "executionInfo": {
     "elapsed": 2037,
     "status": "ok",
     "timestamp": 1610712014855,
     "user": {
      "displayName": "Cinzia Ugwu",
      "photoUrl": "https://lh3.googleusercontent.com/a-/AOh14GgQ6XVfh8lgNDfSacthaskWgKXZzNDGdDEfAEkE7A=s64",
      "userId": "08157638656467437282"
     },
     "user_tz": -60
    },
    "id": "204SqQo44qkV",
    "outputId": "a9159005-7538-4a07-fa36-16ba321d8926"
   },
   "outputs": [
    {
     "data": {
      "image/png": "[encoded data removed]",
      "text/plain": [
       "<Figure size 432x288 with 1 Axes>"
      ]
     },
     "metadata": {
      "needs_background": "light",
      "tags": []
     },
     "output_type": "display_data"
    },
    {
     "name": "stderr",
     "output_type": "stream",
     "text": [
      "/content/analysis_class.py:142: UserWarning: Attempted to set non-positive bottom ylim on a log-scaled axis.\n",
      "Invalid limit will be ignored.\n",
      "  plt.ylim([0,1])\n",
      "/content/analysis_class.py:145: UserWarning: Attempted to set non-positive left xlim on a log-scaled axis.\n",
      "Invalid limit will be ignored.\n",
      "  plt.xlim([0, 10**4])\n"
     ]
    },
    {
     "data": {
      "image/png": "[encoded data removed]",
      "text/plain": [
       "<Figure size 432x288 with 1 Axes>"
      ]
     },
     "metadata": {
      "needs_background": "light",
      "tags": []
     },
     "output_type": "display_data"
    }
   ],
   "source": [
    "NetworkAnalysis.plot_degree_dist(G_h)"
   ]
  },
  {
   "cell_type": "code",
   "execution_count": null,
   "metadata": {
    "colab": {
     "base_uri": "https://localhost:8080/"
    },
    "executionInfo": {
     "elapsed": 549,
     "status": "ok",
     "timestamp": 1610712020100,
     "user": {
      "displayName": "Cinzia Ugwu",
      "photoUrl": "https://lh3.googleusercontent.com/a-/AOh14GgQ6XVfh8lgNDfSacthaskWgKXZzNDGdDEfAEkE7A=s64",
      "userId": "08157638656467437282"
     },
     "user_tz": -60
    },
    "id": "Tmpb73YO5aDf",
    "outputId": "5c533427-6706-4f10-a8d3-cd996d484311"
   },
   "outputs": [
    {
     "name": "stderr",
     "output_type": "stream",
     "text": [
      "Calculating best minimal value for power law fit\n",
      "/usr/local/lib/python3.6/dist-packages/powerlaw.py:700: RuntimeWarning: invalid value encountered in true_divide\n",
      "  (Theoretical_CDF * (1 - Theoretical_CDF))\n"
     ]
    },
    {
     "data": {
      "text/plain": [
       "2.749860332311571"
      ]
     },
     "execution_count": 32,
     "metadata": {
      "tags": []
     },
     "output_type": "execute_result"
    }
   ],
   "source": [
    "NetworkAnalysis.estimate_gamma(G_h)"
   ]
  },
  {
   "cell_type": "code",
   "execution_count": null,
   "metadata": {
    "colab": {
     "base_uri": "https://localhost:8080/",
     "height": 363
    },
    "executionInfo": {
     "elapsed": 527,
     "status": "ok",
     "timestamp": 1610712025240,
     "user": {
      "displayName": "Cinzia Ugwu",
      "photoUrl": "https://lh3.googleusercontent.com/a-/AOh14GgQ6XVfh8lgNDfSacthaskWgKXZzNDGdDEfAEkE7A=s64",
      "userId": "08157638656467437282"
     },
     "user_tz": -60
    },
    "id": "EZN8yn_X59LK",
    "outputId": "eabc8d90-2f52-4542-ea02-6d6ad9d1cdf6"
   },
   "outputs": [
    {
     "data": {
      "text/html": [
       "<div>\n",
       "<style scoped>\n",
       "    .dataframe tbody tr th:only-of-type {\n",
       "        vertical-align: middle;\n",
       "    }\n",
       "\n",
       "    .dataframe tbody tr th {\n",
       "        vertical-align: top;\n",
       "    }\n",
       "\n",
       "    .dataframe thead th {\n",
       "        text-align: right;\n",
       "    }\n",
       "</style>\n",
       "<table border=\"1\" class=\"dataframe\">\n",
       "  <thead>\n",
       "    <tr style=\"text-align: right;\">\n",
       "      <th></th>\n",
       "      <th>Hashtag</th>\n",
       "      <th>PageRank</th>\n",
       "    </tr>\n",
       "  </thead>\n",
       "  <tbody>\n",
       "    <tr>\n",
       "      <th>4</th>\n",
       "      <td>morbillo</td>\n",
       "      <td>0.097825</td>\n",
       "    </tr>\n",
       "    <tr>\n",
       "      <th>1</th>\n",
       "      <td>vaccini</td>\n",
       "      <td>0.084499</td>\n",
       "    </tr>\n",
       "    <tr>\n",
       "      <th>2</th>\n",
       "      <td>vaccino</td>\n",
       "      <td>0.038393</td>\n",
       "    </tr>\n",
       "    <tr>\n",
       "      <th>13</th>\n",
       "      <td>vacciniobbligatori</td>\n",
       "      <td>0.030934</td>\n",
       "    </tr>\n",
       "    <tr>\n",
       "      <th>28</th>\n",
       "      <td>novax</td>\n",
       "      <td>0.030410</td>\n",
       "    </tr>\n",
       "    <tr>\n",
       "      <th>5</th>\n",
       "      <td>freevax</td>\n",
       "      <td>0.027871</td>\n",
       "    </tr>\n",
       "    <tr>\n",
       "      <th>7</th>\n",
       "      <td>iovaccino</td>\n",
       "      <td>0.025645</td>\n",
       "    </tr>\n",
       "    <tr>\n",
       "      <th>17</th>\n",
       "      <td>libertadiscelta</td>\n",
       "      <td>0.024387</td>\n",
       "    </tr>\n",
       "    <tr>\n",
       "      <th>11</th>\n",
       "      <td>mpr</td>\n",
       "      <td>0.022789</td>\n",
       "    </tr>\n",
       "    <tr>\n",
       "      <th>14</th>\n",
       "      <td>noobbligovaccinale</td>\n",
       "      <td>0.022114</td>\n",
       "    </tr>\n",
       "  </tbody>\n",
       "</table>\n",
       "</div>"
      ],
      "text/plain": [
       "               Hashtag  PageRank\n",
       "4             morbillo  0.097825\n",
       "1              vaccini  0.084499\n",
       "2              vaccino  0.038393\n",
       "13  vacciniobbligatori  0.030934\n",
       "28               novax  0.030410\n",
       "5              freevax  0.027871\n",
       "7            iovaccino  0.025645\n",
       "17     libertadiscelta  0.024387\n",
       "11                 mpr  0.022789\n",
       "14  noobbligovaccinale  0.022114"
      ]
     },
     "execution_count": 33,
     "metadata": {
      "tags": []
     },
     "output_type": "execute_result"
    }
   ],
   "source": [
    "pagerank = NetworkAnalysis.page_rank(G_h)\r\n",
    "pr = pd.DataFrame(pagerank.items(), columns = ['Hashtag', 'PageRank'])\r\n",
    "pr.sort_values(by=['PageRank'], ascending = False, inplace = True) #from highest to smallest\r\n",
    "pr[:10]"
   ]
  },
  {
   "cell_type": "markdown",
   "metadata": {
    "id": "U8leXrwC649r"
   },
   "source": [
    "# Users projection"
   ]
  },
  {
   "cell_type": "code",
   "execution_count": null,
   "metadata": {
    "colab": {
     "base_uri": "https://localhost:8080/"
    },
    "executionInfo": {
     "elapsed": 1581,
     "status": "ok",
     "timestamp": 1610712086328,
     "user": {
      "displayName": "Cinzia Ugwu",
      "photoUrl": "https://lh3.googleusercontent.com/a-/AOh14GgQ6XVfh8lgNDfSacthaskWgKXZzNDGdDEfAEkE7A=s64",
      "userId": "08157638656467437282"
     },
     "user_tz": -60
    },
    "id": "fsm0VMwV595A",
    "outputId": "21c86d6a-f624-4a96-ca00-77c7b6cd40e9"
   },
   "outputs": [
    {
     "name": "stdout",
     "output_type": "stream",
     "text": [
      "Name: Graph for users projection\n",
      "Type: Graph\n",
      "Number of nodes: 397\n",
      "Number of edges: 10620\n",
      "Average degree:  53.5013\n"
     ]
    }
   ],
   "source": [
    "NetworkAnalysis.get_graph_info(G_p)"
   ]
  },
  {
   "cell_type": "code",
   "execution_count": null,
   "metadata": {
    "colab": {
     "base_uri": "https://localhost:8080/"
    },
    "executionInfo": {
     "elapsed": 3850,
     "status": "ok",
     "timestamp": 1610712104158,
     "user": {
      "displayName": "Cinzia Ugwu",
      "photoUrl": "https://lh3.googleusercontent.com/a-/AOh14GgQ6XVfh8lgNDfSacthaskWgKXZzNDGdDEfAEkE7A=s64",
      "userId": "08157638656467437282"
     },
     "user_tz": -60
    },
    "id": "XLgAELli6_As",
    "outputId": "81b719ed-7553-42da-88a2-40d520dcc2fd"
   },
   "outputs": [
    {
     "name": "stdout",
     "output_type": "stream",
     "text": [
      "Graph density: 0.13510419051980765\n"
     ]
    },
    {
     "data": {
      "text/plain": [
       "0.13510419051980765"
      ]
     },
     "execution_count": 35,
     "metadata": {
      "tags": []
     },
     "output_type": "execute_result"
    }
   ],
   "source": [
    "NetworkAnalysis.graph_density(G_p)"
   ]
  },
  {
   "cell_type": "code",
   "execution_count": null,
   "metadata": {
    "colab": {
     "base_uri": "https://localhost:8080/",
     "height": 304
    },
    "executionInfo": {
     "elapsed": 3772,
     "status": "ok",
     "timestamp": 1610712117948,
     "user": {
      "displayName": "Cinzia Ugwu",
      "photoUrl": "https://lh3.googleusercontent.com/a-/AOh14GgQ6XVfh8lgNDfSacthaskWgKXZzNDGdDEfAEkE7A=s64",
      "userId": "08157638656467437282"
     },
     "user_tz": -60
    },
    "id": "eBnOOm2b7Cx4",
    "outputId": "68a5f5d9-2873-4090-b5e0-60c7861bc76f"
   },
   "outputs": [
    {
     "name": "stdout",
     "output_type": "stream",
     "text": [
      "Is the graph connected: no\n"
     ]
    },
    {
     "data": {
      "image/png": "[encoded data removed]",
      "text/plain": [
       "<Figure size 432x288 with 1 Axes>"
      ]
     },
     "metadata": {
      "tags": []
     },
     "output_type": "display_data"
    },
    {
     "name": "stdout",
     "output_type": "stream",
     "text": [
      "Nodes in the isolated components 10\n",
      "Nodes in the connected component 387\n"
     ]
    }
   ],
   "source": [
    "NetworkAnalysis.is_connected(G_p)"
   ]
  },
  {
   "cell_type": "code",
   "execution_count": null,
   "metadata": {
    "colab": {
     "base_uri": "https://localhost:8080/"
    },
    "executionInfo": {
     "elapsed": 2952,
     "status": "ok",
     "timestamp": 1610712137711,
     "user": {
      "displayName": "Cinzia Ugwu",
      "photoUrl": "https://lh3.googleusercontent.com/a-/AOh14GgQ6XVfh8lgNDfSacthaskWgKXZzNDGdDEfAEkE7A=s64",
      "userId": "08157638656467437282"
     },
     "user_tz": -60
    },
    "id": "AfGAWecA7GOw",
    "outputId": "8004f3aa-9e84-4bae-9726-96a40d2089ad"
   },
   "outputs": [
    {
     "name": "stdout",
     "output_type": "stream",
     "text": [
      "Network diameter: 4\n"
     ]
    },
    {
     "data": {
      "text/plain": [
       "4"
      ]
     },
     "execution_count": 37,
     "metadata": {
      "tags": []
     },
     "output_type": "execute_result"
    }
   ],
   "source": [
    "NetworkAnalysis.diameter_len(G_p)"
   ]
  },
  {
   "cell_type": "code",
   "execution_count": null,
   "metadata": {
    "colab": {
     "base_uri": "https://localhost:8080/"
    },
    "executionInfo": {
     "elapsed": 2990,
     "status": "ok",
     "timestamp": 1610712155766,
     "user": {
      "displayName": "Cinzia Ugwu",
      "photoUrl": "https://lh3.googleusercontent.com/a-/AOh14GgQ6XVfh8lgNDfSacthaskWgKXZzNDGdDEfAEkE7A=s64",
      "userId": "08157638656467437282"
     },
     "user_tz": -60
    },
    "id": "koDm-FC17LHV",
    "outputId": "fe0114bc-a3b9-4310-fa85-19eb05a605d3"
   },
   "outputs": [
    {
     "name": "stdout",
     "output_type": "stream",
     "text": [
      "Average path length: 2.0460057825132516\n"
     ]
    },
    {
     "data": {
      "text/plain": [
       "2.0460057825132516"
      ]
     },
     "execution_count": 38,
     "metadata": {
      "tags": []
     },
     "output_type": "execute_result"
    }
   ],
   "source": [
    "NetworkAnalysis.average_path_len(G_p)"
   ]
  },
  {
   "cell_type": "code",
   "execution_count": null,
   "metadata": {
    "colab": {
     "base_uri": "https://localhost:8080/",
     "height": 677
    },
    "executionInfo": {
     "elapsed": 1455,
     "status": "ok",
     "timestamp": 1610712178324,
     "user": {
      "displayName": "Cinzia Ugwu",
      "photoUrl": "https://lh3.googleusercontent.com/a-/AOh14GgQ6XVfh8lgNDfSacthaskWgKXZzNDGdDEfAEkE7A=s64",
      "userId": "08157638656467437282"
     },
     "user_tz": -60
    },
    "id": "Zm2Vl8gJ7PqE",
    "outputId": "ab02b63b-6e51-410a-a5f3-0e6f65d85af4"
   },
   "outputs": [
    {
     "data": {
      "image/png": "[encoded data removed]",
      "text/plain": [
       "<Figure size 432x288 with 1 Axes>"
      ]
     },
     "metadata": {
      "needs_background": "light",
      "tags": []
     },
     "output_type": "display_data"
    },
    {
     "name": "stderr",
     "output_type": "stream",
     "text": [
      "/content/analysis_class.py:142: UserWarning: Attempted to set non-positive bottom ylim on a log-scaled axis.\n",
      "Invalid limit will be ignored.\n",
      "  plt.ylim([0,1])\n",
      "/content/analysis_class.py:145: UserWarning: Attempted to set non-positive left xlim on a log-scaled axis.\n",
      "Invalid limit will be ignored.\n",
      "  plt.xlim([0, 10**4])\n"
     ]
    },
    {
     "data": {
      "image/png": "[encoded data removed]",
      "text/plain": [
       "<Figure size 432x288 with 1 Axes>"
      ]
     },
     "metadata": {
      "needs_background": "light",
      "tags": []
     },
     "output_type": "display_data"
    }
   ],
   "source": [
    "NetworkAnalysis.plot_degree_dist(G_p)"
   ]
  },
  {
   "cell_type": "code",
   "execution_count": null,
   "metadata": {
    "colab": {
     "base_uri": "https://localhost:8080/"
    },
    "executionInfo": {
     "elapsed": 714,
     "status": "ok",
     "timestamp": 1610712194020,
     "user": {
      "displayName": "Cinzia Ugwu",
      "photoUrl": "https://lh3.googleusercontent.com/a-/AOh14GgQ6XVfh8lgNDfSacthaskWgKXZzNDGdDEfAEkE7A=s64",
      "userId": "08157638656467437282"
     },
     "user_tz": -60
    },
    "id": "XetI5yef7Vae",
    "outputId": "1d228fde-58ad-4f98-9045-20045fe5af3f"
   },
   "outputs": [
    {
     "name": "stderr",
     "output_type": "stream",
     "text": [
      "Calculating best minimal value for power law fit\n",
      "/usr/local/lib/python3.6/dist-packages/powerlaw.py:700: RuntimeWarning: invalid value encountered in true_divide\n",
      "  (Theoretical_CDF * (1 - Theoretical_CDF))\n"
     ]
    },
    {
     "data": {
      "text/plain": [
       "7.60159093204021"
      ]
     },
     "execution_count": 40,
     "metadata": {
      "tags": []
     },
     "output_type": "execute_result"
    }
   ],
   "source": [
    "NetworkAnalysis.estimate_gamma(G_p)"
   ]
  }
 ],
 "metadata": {
  "colab": {
   "collapsed_sections": [],
   "name": "lde_network_creation_cynthia.ipynb",
   "provenance": [
    {
     "file_id": "1fyXRFLMC4bTIoTeDM5nmDHN6LUYcLoGO",
     "timestamp": 1610100237342
    }
   ],
   "toc_visible": true
  },
  "kernelspec": {
   "display_name": "Python 3",
   "language": "python",
   "name": "python3"
  },
  "language_info": {
   "codemirror_mode": {
    "name": "ipython",
    "version": 3
   },
   "file_extension": ".py",
   "mimetype": "text/x-python",
   "name": "python",
   "nbconvert_exporter": "python",
   "pygments_lexer": "ipython3",
   "version": "3.8.5"
  }
 },
 "nbformat": 4,
 "nbformat_minor": 4
}
